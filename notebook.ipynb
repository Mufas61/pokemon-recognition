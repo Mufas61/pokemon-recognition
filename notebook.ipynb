{
 "cells": [
  {
   "cell_type": "code",
   "execution_count": 2,
   "metadata": {
    "id": "me3UGvX-P-T-",
    "colab_type": "code",
    "colab": {
     "autoexec": {
      "startup": false,
      "wait_interval": 0.0
     },
     "base_uri": "https://localhost:8080/",
     "height": 187.0
    },
    "outputId": "e4b1ecba-e99b-41c4-e3e5-8f257723df9d",
    "executionInfo": {
     "status": "ok",
     "timestamp": 1.528697836541E12,
     "user_tz": -120.0,
     "elapsed": 23195.0,
     "user": {
      "displayName": "Lion Pierau",
      "photoUrl": "//lh4.googleusercontent.com/-hZmLaE0LrhY/AAAAAAAAAAI/AAAAAAAACTU/vPgZFO1gt6Y/s50-c-k-no/photo.jpg",
      "userId": "106948638632482276231"
     }
    }
   },
   "outputs": [
    {
     "name": "stdout",
     "output_type": "stream",
     "text": [
      "Cloning into 'pokemon-recognition'...\r\n"
     ]
    },
    {
     "name": "stdout",
     "output_type": "stream",
     "text": [
      "remote: Counting objects: 1103, done.\u001b[K\r\nremote: Compressing objects:  20% (1/5)   \u001b[K\rremote: Compressing objects:  40% (2/5)   \u001b[K\rremote: Compressing objects:  60% (3/5)   \u001b[K\rremote: Compressing objects:  80% (4/5)   \u001b[K\rremote: Compressing objects: 100% (5/5)   \u001b[K\rremote: Compressing objects: 100% (5/5), done.\u001b[K\r\n"
     ]
    },
    {
     "name": "stdout",
     "output_type": "stream",
     "text": [
      "Receiving objects:   0% (1/1103)   \r"
     ]
    },
    {
     "name": "stdout",
     "output_type": "stream",
     "text": [
      "Receiving objects:   0% (9/1103), 588.00 KiB | 537.00 KiB/s   \r"
     ]
    },
    {
     "name": "stdout",
     "output_type": "stream",
     "text": [
      "Receiving objects:   1% (12/1103), 588.00 KiB | 537.00 KiB/s   \r"
     ]
    },
    {
     "name": "stdout",
     "output_type": "stream",
     "text": [
      "Receiving objects:   1% (18/1103), 1.69 MiB | 1.03 MiB/s   \r"
     ]
    },
    {
     "name": "stdout",
     "output_type": "stream",
     "text": [
      "Receiving objects:   1% (22/1103), 3.75 MiB | 1.38 MiB/s   \r"
     ]
    },
    {
     "name": "stdout",
     "output_type": "stream",
     "text": [
      "Receiving objects:   2% (23/1103), 4.89 MiB | 1.30 MiB/s   \r"
     ]
    },
    {
     "name": "stdout",
     "output_type": "stream",
     "text": [
      "Receiving objects:   2% (26/1103), 4.89 MiB | 1.30 MiB/s   \r"
     ]
    },
    {
     "name": "stdout",
     "output_type": "stream",
     "text": [
      "Receiving objects:   2% (30/1103), 6.12 MiB | 1.21 MiB/s   \r"
     ]
    },
    {
     "name": "stdout",
     "output_type": "stream",
     "text": [
      "Receiving objects:   3% (34/1103), 6.59 MiB | 1.26 MiB/s   \r"
     ]
    },
    {
     "name": "stdout",
     "output_type": "stream",
     "text": [
      "Receiving objects:   3% (34/1103), 6.88 MiB | 1.20 MiB/s   \r"
     ]
    },
    {
     "name": "stdout",
     "output_type": "stream",
     "text": [
      "Receiving objects:   3% (35/1103), 7.71 MiB | 929.00 KiB/s   \r"
     ]
    },
    {
     "name": "stdout",
     "output_type": "stream",
     "text": [
      "Receiving objects:   3% (36/1103), 8.19 MiB | 839.00 KiB/s   \r"
     ]
    },
    {
     "name": "stdout",
     "output_type": "stream",
     "text": [
      "Receiving objects:   3% (40/1103), 9.05 MiB | 869.00 KiB/s   \r"
     ]
    },
    {
     "name": "stdout",
     "output_type": "stream",
     "text": [
      "Receiving objects:   4% (45/1103), 9.95 MiB | 932.00 KiB/s   \r"
     ]
    },
    {
     "name": "stdout",
     "output_type": "stream",
     "text": [
      "Receiving objects:   4% (54/1103), 10.86 MiB | 1.01 MiB/s   \r"
     ]
    }
   ],
   "source": [
    "!rm -rf pokemon-recognition\n",
    "!rm -rf dataset*\n",
    "!git clone https://github.com/mattx7/pokemon-recognition\n",
    "!mv pokemon-recognition/dataset .\n",
    "!ls -lsh"
   ]
  },
  {
   "cell_type": "code",
   "execution_count": null,
   "metadata": {
    "id": "1HNHuUeCOcAC",
    "colab_type": "code",
    "colab": {
     "autoexec": {
      "startup": false,
      "wait_interval": 0.0
     },
     "base_uri": "https://localhost:8080/",
     "height": 204.0
    },
    "outputId": "3666da23-cf3e-4a08-bde0-3be12490d2a1",
    "executionInfo": {
     "status": "ok",
     "timestamp": 1.528697843744E12,
     "user_tz": -120.0,
     "elapsed": 7142.0,
     "user": {
      "displayName": "Lion Pierau",
      "photoUrl": "//lh4.googleusercontent.com/-hZmLaE0LrhY/AAAAAAAAAAI/AAAAAAAACTU/vPgZFO1gt6Y/s50-c-k-no/photo.jpg",
      "userId": "106948638632482276231"
     }
    }
   },
   "outputs": [
    {
     "name": "stdout",
     "output_type": "stream",
     "text": [
      "Requirement already up-to-date: pip in /usr/local/lib/python2.7/dist-packages (10.0.1)\n",
      "Collecting imutils\n",
      "  Downloading https://files.pythonhosted.org/packages/15/ba/24272ac57159cf255959f9298b8e42f00528be90ce4ccd274b604ae5e32d/imutils-0.4.6.tar.gz\n",
      "Building wheels for collected packages: imutils\n",
      "  Running setup.py bdist_wheel for imutils ... \u001b[?25l-\b \bdone\n",
      "\u001b[?25h  Stored in directory: /content/.cache/pip/wheels/cb/58/9b/7debccbc53159611f67cc7e2e3ed37b217e56e9b40e7ba80c3\n",
      "Successfully built imutils\n",
      "Installing collected packages: imutils\n",
      "Successfully installed imutils-0.4.6\n",
      "Requirement already satisfied: opencv-python in /usr/local/lib/python2.7/dist-packages (3.4.1.15)\n",
      "Requirement already satisfied: numpy>=1.11.1 in /usr/local/lib/python2.7/dist-packages (from opencv-python) (1.14.3)\n"
     ]
    }
   ],
   "source": [
    "!pip install --upgrade pip\n",
    "!pip install imutils\n",
    "!pip install opencv-python"
   ]
  },
  {
   "cell_type": "code",
   "execution_count": 1,
   "metadata": {
    "id": "SJsfrUa8OcAL",
    "colab_type": "code",
    "colab": {
     "autoexec": {
      "startup": false,
      "wait_interval": 0.0
     },
     "base_uri": "https://localhost:8080/",
     "height": 629.0
    },
    "outputId": "ddd0cb9b-b130-4e33-e554-d9f8d0ef3427",
    "executionInfo": {
     "status": "ok",
     "timestamp": 1.528697844809E12,
     "user_tz": -120.0,
     "elapsed": 1007.0,
     "user": {
      "displayName": "Lion Pierau",
      "photoUrl": "//lh4.googleusercontent.com/-hZmLaE0LrhY/AAAAAAAAAAI/AAAAAAAACTU/vPgZFO1gt6Y/s50-c-k-no/photo.jpg",
      "userId": "106948638632482276231"
     }
    }
   },
   "outputs": [
    {
     "name": "stderr",
     "output_type": "stream",
     "text": [
      "/home/mattx7/anaconda3/lib/python3.6/site-packages/h5py/__init__.py:34: FutureWarning: Conversion of the second argument of issubdtype from `float` to `np.floating` is deprecated. In future, it will be treated as `np.float64 == np.dtype(float).type`.\n  from ._conv import register_converters as _register_converters\nUsing TensorFlow backend.\n"
     ]
    }
   ],
   "source": [
    "import matplotlib\n",
    "\n",
    "matplotlib.use(\"Agg\")\n",
    "\n",
    "from keras.preprocessing.image import ImageDataGenerator\n",
    "from keras.optimizers import Adam\n",
    "from keras.models import load_model\n",
    "from keras.preprocessing.image import img_to_array\n",
    "from keras.models import Sequential\n",
    "from keras.layers.normalization import BatchNormalization\n",
    "from keras.layers.convolutional import Conv2D\n",
    "from keras.layers.convolutional import MaxPooling2D\n",
    "from keras.layers.core import Activation\n",
    "from keras.layers.core import Flatten\n",
    "from keras.layers.core import Dropout\n",
    "from keras.layers.core import Dense\n",
    "from keras import backend as K\n",
    "from sklearn.preprocessing import LabelBinarizer\n",
    "from sklearn.model_selection import train_test_split\n",
    "import matplotlib.pyplot as plt\n",
    "from imutils import paths\n",
    "import numpy as np\n",
    "import random\n",
    "import pickle\n",
    "import cv2\n",
    "import os\n",
    "import imutils\n"
   ]
  },
  {
   "cell_type": "code",
   "execution_count": 2,
   "metadata": {
    "id": "PO5m4HjFOcAP",
    "colab_type": "code",
    "colab": {
     "autoexec": {
      "startup": false,
      "wait_interval": 0.0
     },
     "base_uri": "https://localhost:8080/",
     "height": 51.0
    },
    "outputId": "3563cb74-8057-4aaf-f70b-eb6f600230d6",
    "executionInfo": {
     "status": "ok",
     "timestamp": 1.528645713538E12,
     "user_tz": -120.0,
     "elapsed": 463.0,
     "user": {
      "displayName": "Lion Pierau",
      "photoUrl": "//lh4.googleusercontent.com/-hZmLaE0LrhY/AAAAAAAAAAI/AAAAAAAACTU/vPgZFO1gt6Y/s50-c-k-no/photo.jpg",
      "userId": "106948638632482276231"
     }
    }
   },
   "outputs": [],
   "source": [
    "%load_ext autoreload\n",
    "%autoreload 2"
   ]
  },
  {
   "cell_type": "code",
   "execution_count": 3,
   "metadata": {
    "id": "vNireFx4OcAR",
    "colab_type": "code",
    "colab": {
     "autoexec": {
      "startup": false,
      "wait_interval": 0.0
     }
    }
   },
   "outputs": [],
   "source": [
    "# initialize the number of epochs to train for, initial learning rate,\n",
    "# batch size, and image dimensions\n",
    "EPOCHS = 2\n",
    "INIT_LR = 1e-3\n",
    "BS = 32\n",
    "IMAGE_DIMS = (96, 96, 3)\n",
    "\n",
    "DATASET_DIR = \"dataset\"\n",
    "MODEL_FILE = \"pokedex.model\"\n",
    "LABEL_BIN = \"lb.pickle\"\n",
    "PLOT_FILE = \"plot.png\"\n",
    "IMAGE_FILE = \"examples/charmander_counter.png\""
   ]
  },
  {
   "cell_type": "markdown",
   "metadata": {
    "id": "S_7D38umOcAU",
    "colab_type": "text"
   },
   "source": [
    "## PREPROCESS"
   ]
  },
  {
   "cell_type": "code",
   "execution_count": 5,
   "metadata": {
    "id": "zJHXRf2hOcAW",
    "colab_type": "code",
    "colab": {
     "autoexec": {
      "startup": false,
      "wait_interval": 0.0
     },
     "base_uri": "https://localhost:8080/",
     "height": 51.0
    },
    "outputId": "dfcc2966-418b-49c3-e25b-92a06f3e0f81",
    "executionInfo": {
     "status": "ok",
     "timestamp": 1.528699329883E12,
     "user_tz": -120.0,
     "elapsed": 20931.0,
     "user": {
      "displayName": "Lion Pierau",
      "photoUrl": "//lh4.googleusercontent.com/-hZmLaE0LrhY/AAAAAAAAAAI/AAAAAAAACTU/vPgZFO1gt6Y/s50-c-k-no/photo.jpg",
      "userId": "106948638632482276231"
     }
    }
   },
   "outputs": [
    {
     "name": "stdout",
     "output_type": "stream",
     "text": [
      "[INFO] loading images...\n[INFO] data matrix: 0.00MB\n"
     ]
    },
    {
     "ename": "ValueError",
     "evalue": "y has 0 samples: array([], dtype=float64)",
     "traceback": [
      "\u001b[0;31m---------------------------------------------------------------------------\u001b[0m",
      "\u001b[0;31mValueError\u001b[0m                                Traceback (most recent call last)",
      "\u001b[0;32m<ipython-input-5-7e8c38cda2f4>\u001b[0m in \u001b[0;36m<module>\u001b[0;34m()\u001b[0m\n\u001b[1;32m     29\u001b[0m \u001b[0;31m# binarize the labels\u001b[0m\u001b[0;34m\u001b[0m\u001b[0;34m\u001b[0m\u001b[0m\n\u001b[1;32m     30\u001b[0m \u001b[0mlb\u001b[0m \u001b[0;34m=\u001b[0m \u001b[0mLabelBinarizer\u001b[0m\u001b[0;34m(\u001b[0m\u001b[0;34m)\u001b[0m\u001b[0;34m\u001b[0m\u001b[0m\n\u001b[0;32m---> 31\u001b[0;31m \u001b[0mlabels\u001b[0m \u001b[0;34m=\u001b[0m \u001b[0mlb\u001b[0m\u001b[0;34m.\u001b[0m\u001b[0mfit_transform\u001b[0m\u001b[0;34m(\u001b[0m\u001b[0mlabels\u001b[0m\u001b[0;34m)\u001b[0m\u001b[0;34m\u001b[0m\u001b[0m\n\u001b[0m",
      "\u001b[0;32m~/anaconda3/lib/python3.6/site-packages/sklearn/preprocessing/label.py\u001b[0m in \u001b[0;36mfit_transform\u001b[0;34m(self, y)\u001b[0m\n\u001b[1;32m    305\u001b[0m             \u001b[0mShape\u001b[0m \u001b[0mwill\u001b[0m \u001b[0mbe\u001b[0m \u001b[0;34m[\u001b[0m\u001b[0mn_samples\u001b[0m\u001b[0;34m,\u001b[0m \u001b[0;36m1\u001b[0m\u001b[0;34m]\u001b[0m \u001b[0;32mfor\u001b[0m \u001b[0mbinary\u001b[0m \u001b[0mproblems\u001b[0m\u001b[0;34m.\u001b[0m\u001b[0;34m\u001b[0m\u001b[0m\n\u001b[1;32m    306\u001b[0m         \"\"\"\n\u001b[0;32m--> 307\u001b[0;31m         \u001b[0;32mreturn\u001b[0m \u001b[0mself\u001b[0m\u001b[0;34m.\u001b[0m\u001b[0mfit\u001b[0m\u001b[0;34m(\u001b[0m\u001b[0my\u001b[0m\u001b[0;34m)\u001b[0m\u001b[0;34m.\u001b[0m\u001b[0mtransform\u001b[0m\u001b[0;34m(\u001b[0m\u001b[0my\u001b[0m\u001b[0;34m)\u001b[0m\u001b[0;34m\u001b[0m\u001b[0m\n\u001b[0m\u001b[1;32m    308\u001b[0m \u001b[0;34m\u001b[0m\u001b[0m\n\u001b[1;32m    309\u001b[0m     \u001b[0;32mdef\u001b[0m \u001b[0mtransform\u001b[0m\u001b[0;34m(\u001b[0m\u001b[0mself\u001b[0m\u001b[0;34m,\u001b[0m \u001b[0my\u001b[0m\u001b[0;34m)\u001b[0m\u001b[0;34m:\u001b[0m\u001b[0;34m\u001b[0m\u001b[0m\n",
      "\u001b[0;32m~/anaconda3/lib/python3.6/site-packages/sklearn/preprocessing/label.py\u001b[0m in \u001b[0;36mfit\u001b[0;34m(self, y)\u001b[0m\n\u001b[1;32m    279\u001b[0m                              \"label binarization\")\n\u001b[1;32m    280\u001b[0m         \u001b[0;32mif\u001b[0m \u001b[0m_num_samples\u001b[0m\u001b[0;34m(\u001b[0m\u001b[0my\u001b[0m\u001b[0;34m)\u001b[0m \u001b[0;34m==\u001b[0m \u001b[0;36m0\u001b[0m\u001b[0;34m:\u001b[0m\u001b[0;34m\u001b[0m\u001b[0m\n\u001b[0;32m--> 281\u001b[0;31m             \u001b[0;32mraise\u001b[0m \u001b[0mValueError\u001b[0m\u001b[0;34m(\u001b[0m\u001b[0;34m'y has 0 samples: %r'\u001b[0m \u001b[0;34m%\u001b[0m \u001b[0my\u001b[0m\u001b[0;34m)\u001b[0m\u001b[0;34m\u001b[0m\u001b[0m\n\u001b[0m\u001b[1;32m    282\u001b[0m \u001b[0;34m\u001b[0m\u001b[0m\n\u001b[1;32m    283\u001b[0m         \u001b[0mself\u001b[0m\u001b[0;34m.\u001b[0m\u001b[0msparse_input_\u001b[0m \u001b[0;34m=\u001b[0m \u001b[0msp\u001b[0m\u001b[0;34m.\u001b[0m\u001b[0missparse\u001b[0m\u001b[0;34m(\u001b[0m\u001b[0my\u001b[0m\u001b[0;34m)\u001b[0m\u001b[0;34m\u001b[0m\u001b[0m\n",
      "\u001b[0;31mValueError\u001b[0m: y has 0 samples: array([], dtype=float64)"
     ],
     "output_type": "error"
    }
   ],
   "source": [
    "# initialize the data and labels\n",
    "data = []\n",
    "labels = []\n",
    "\n",
    "# grab the image paths and randomly shuffle them\n",
    "print(\"[INFO] loading images...\")\n",
    "image_paths = sorted(list(paths.list_images(DATASET_DIR)))\n",
    "random.seed(42)\n",
    "random.shuffle(image_paths)\n",
    "\n",
    "# loop over the input images\n",
    "for imagePath in image_paths:\n",
    "    # load the image, pre-process it, and store it in the data list\n",
    "    image = cv2.imread(imagePath)\n",
    "    image = cv2.resize(image, (IMAGE_DIMS[1], IMAGE_DIMS[0]))\n",
    "    image = img_to_array(image)\n",
    "    data.append(image)\n",
    "\n",
    "    # extract the class label from the image path and update the\n",
    "    # labels list\n",
    "    label = imagePath.split(os.path.sep)[-2]\n",
    "    labels.append(label)\n",
    "\n",
    "# scale the raw pixel intensities to the range [0, 1]\n",
    "data = np.array(data, dtype=\"float\") / 255.0\n",
    "labels = np.array(labels)\n",
    "print(\"[INFO] data matrix: {:.2f}MB\".format(data.nbytes / (1024 * 1000.0)))\n",
    "\n",
    "# binarize the labels\n",
    "lb = LabelBinarizer()\n",
    "labels = lb.fit_transform(labels)"
   ]
  },
  {
   "cell_type": "markdown",
   "metadata": {
    "id": "gvnDPX1sOcAY",
    "colab_type": "text"
   },
   "source": [
    "partition the data into training and testing splits using 80% of the data for training and the remaining 20% for testing"
   ]
  },
  {
   "cell_type": "code",
   "execution_count": 0,
   "metadata": {
    "id": "RsuqmhNSOcAZ",
    "colab_type": "code",
    "colab": {
     "autoexec": {
      "startup": false,
      "wait_interval": 0.0
     }
    }
   },
   "outputs": [],
   "source": [
    "(trainX, testX, trainY, testY) = train_test_split(data, labels, test_size=0.2, random_state=42)"
   ]
  },
  {
   "cell_type": "code",
   "execution_count": 0,
   "metadata": {
    "id": "b0IF2SL5OcAb",
    "colab_type": "code",
    "colab": {
     "autoexec": {
      "startup": false,
      "wait_interval": 0.0
     }
    }
   },
   "outputs": [],
   "source": [
    "# construct the image generator for data augmentation\n",
    "aug = ImageDataGenerator(rotation_range=25, \n",
    "                         width_shift_range=0.1,\n",
    "                         height_shift_range=0.1, \n",
    "                         shear_range=0.2,\n",
    "                         zoom_range=0.2,\n",
    "                         horizontal_flip=True, \n",
    "                         fill_mode=\"nearest\")"
   ]
  },
  {
   "cell_type": "markdown",
   "metadata": {
    "id": "HY4wULIvOcAe",
    "colab_type": "text"
   },
   "source": [
    "## MODEL"
   ]
  },
  {
   "cell_type": "code",
   "execution_count": 38,
   "metadata": {
    "id": "rY-6HXkPOcAe",
    "colab_type": "code",
    "colab": {
     "autoexec": {
      "startup": false,
      "wait_interval": 0.0
     },
     "base_uri": "https://localhost:8080/",
     "height": 34.0
    },
    "outputId": "a1ad31bd-c39e-4dab-d8c2-625f31dc68bf",
    "executionInfo": {
     "status": "ok",
     "timestamp": 1.528699334007E12,
     "user_tz": -120.0,
     "elapsed": 1735.0,
     "user": {
      "displayName": "Lion Pierau",
      "photoUrl": "//lh4.googleusercontent.com/-hZmLaE0LrhY/AAAAAAAAAAI/AAAAAAAACTU/vPgZFO1gt6Y/s50-c-k-no/photo.jpg",
      "userId": "106948638632482276231"
     }
    }
   },
   "outputs": [
    {
     "name": "stdout",
     "output_type": "stream",
     "text": [
      "[INFO] compiling model...\n"
     ]
    }
   ],
   "source": [
    "print(\"[INFO] compiling model...\")\n",
    "# initialize the model along with the input shape to be\n",
    "# \"channels last\" and the channels dimension itself\n",
    "model = Sequential()\n",
    "width = IMAGE_DIMS[1]\n",
    "height = IMAGE_DIMS[0]\n",
    "depth = IMAGE_DIMS[2]\n",
    "classes = len(lb.classes_)\n",
    "inputShape = (height, width, depth)\n",
    "chanDim = -1\n",
    "\n",
    "# if we are using \"channels first\", update the input shape\n",
    "# and channels dimension\n",
    "if K.image_data_format() == \"channels_first\":\n",
    "    inputShape = (depth, height, width)\n",
    "    chanDim = 1\n",
    "\n",
    "# CONV => RELU => POOL\n",
    "model.add(Conv2D(32, (3, 3), padding=\"same\", input_shape=inputShape))\n",
    "model.add(Activation(\"relu\"))\n",
    "model.add(BatchNormalization(axis=chanDim))\n",
    "model.add(MaxPooling2D(pool_size=(3, 3)))\n",
    "model.add(Dropout(0.25))\n",
    "\n",
    "# (CONV => RELU) * 2 => POOL\n",
    "model.add(Conv2D(64, (3, 3), padding=\"same\"))\n",
    "model.add(Activation(\"relu\"))\n",
    "model.add(BatchNormalization(axis=chanDim))\n",
    "model.add(Conv2D(64, (3, 3), padding=\"same\"))\n",
    "model.add(Activation(\"relu\"))\n",
    "model.add(BatchNormalization(axis=chanDim))\n",
    "model.add(MaxPooling2D(pool_size=(2, 2)))\n",
    "model.add(Dropout(0.25))\n",
    "\n",
    "# (CONV => RELU) * 2 => POOL\n",
    "model.add(Conv2D(128, (3, 3), padding=\"same\"))\n",
    "model.add(Activation(\"relu\"))\n",
    "model.add(BatchNormalization(axis=chanDim))\n",
    "model.add(Conv2D(128, (3, 3), padding=\"same\"))\n",
    "model.add(Activation(\"relu\"))\n",
    "model.add(BatchNormalization(axis=chanDim))\n",
    "model.add(MaxPooling2D(pool_size=(2, 2)))\n",
    "model.add(Dropout(0.25))\n",
    "\n",
    "# first (and only) set of FC => RELU layers\n",
    "model.add(Flatten())\n",
    "model.add(Dense(1024))\n",
    "model.add(Activation(\"relu\"))\n",
    "model.add(BatchNormalization())\n",
    "model.add(Dropout(0.5))\n",
    "\n",
    "# softmax classifier\n",
    "model.add(Dense(classes))\n",
    "model.add(Activation(\"softmax\"))\n",
    "\n",
    "model.compile(loss=\"categorical_crossentropy\",\n",
    "              optimizer=Adam(lr=INIT_LR, decay=INIT_LR / EPOCHS),\n",
    "              metrics=[\"accuracy\"])"
   ]
  },
  {
   "cell_type": "code",
   "execution_count": 39,
   "metadata": {
    "id": "kUZCLjENOcAh",
    "colab_type": "code",
    "colab": {
     "autoexec": {
      "startup": false,
      "wait_interval": 0.0
     },
     "base_uri": "https://localhost:8080/",
     "height": 1088.0
    },
    "outputId": "5e6669f7-fea3-4286-9d80-82e488e5aae2",
    "executionInfo": {
     "status": "ok",
     "timestamp": 1.528699334681E12,
     "user_tz": -120.0,
     "elapsed": 605.0,
     "user": {
      "displayName": "Lion Pierau",
      "photoUrl": "//lh4.googleusercontent.com/-hZmLaE0LrhY/AAAAAAAAAAI/AAAAAAAACTU/vPgZFO1gt6Y/s50-c-k-no/photo.jpg",
      "userId": "106948638632482276231"
     }
    }
   },
   "outputs": [
    {
     "name": "stdout",
     "output_type": "stream",
     "text": [
      "_________________________________________________________________\n",
      "Layer (type)                 Output Shape              Param #   \n",
      "=================================================================\n",
      "conv2d_288 (Conv2D)          (None, 96, 96, 32)        896       \n",
      "_________________________________________________________________\n",
      "activation_290 (Activation)  (None, 96, 96, 32)        0         \n",
      "_________________________________________________________________\n",
      "batch_normalization_289 (Bat (None, 96, 96, 32)        128       \n",
      "_________________________________________________________________\n",
      "max_pooling2d_16 (MaxPooling (None, 32, 32, 32)        0         \n",
      "_________________________________________________________________\n",
      "dropout_5 (Dropout)          (None, 32, 32, 32)        0         \n",
      "_________________________________________________________________\n",
      "conv2d_289 (Conv2D)          (None, 32, 32, 64)        18496     \n",
      "_________________________________________________________________\n",
      "activation_291 (Activation)  (None, 32, 32, 64)        0         \n",
      "_________________________________________________________________\n",
      "batch_normalization_290 (Bat (None, 32, 32, 64)        256       \n",
      "_________________________________________________________________\n",
      "conv2d_290 (Conv2D)          (None, 32, 32, 64)        36928     \n",
      "_________________________________________________________________\n",
      "activation_292 (Activation)  (None, 32, 32, 64)        0         \n",
      "_________________________________________________________________\n",
      "batch_normalization_291 (Bat (None, 32, 32, 64)        256       \n",
      "_________________________________________________________________\n",
      "max_pooling2d_17 (MaxPooling (None, 16, 16, 64)        0         \n",
      "_________________________________________________________________\n",
      "dropout_6 (Dropout)          (None, 16, 16, 64)        0         \n",
      "_________________________________________________________________\n",
      "conv2d_291 (Conv2D)          (None, 16, 16, 128)       73856     \n",
      "_________________________________________________________________\n",
      "activation_293 (Activation)  (None, 16, 16, 128)       0         \n",
      "_________________________________________________________________\n",
      "batch_normalization_292 (Bat (None, 16, 16, 128)       512       \n",
      "_________________________________________________________________\n",
      "conv2d_292 (Conv2D)          (None, 16, 16, 128)       147584    \n",
      "_________________________________________________________________\n",
      "activation_294 (Activation)  (None, 16, 16, 128)       0         \n",
      "_________________________________________________________________\n",
      "batch_normalization_293 (Bat (None, 16, 16, 128)       512       \n",
      "_________________________________________________________________\n",
      "max_pooling2d_18 (MaxPooling (None, 8, 8, 128)         0         \n",
      "_________________________________________________________________\n",
      "dropout_7 (Dropout)          (None, 8, 8, 128)         0         \n",
      "_________________________________________________________________\n",
      "flatten_2 (Flatten)          (None, 8192)              0         \n",
      "_________________________________________________________________\n",
      "dense_3 (Dense)              (None, 1024)              8389632   \n",
      "_________________________________________________________________\n",
      "activation_295 (Activation)  (None, 1024)              0         \n",
      "_________________________________________________________________\n",
      "batch_normalization_294 (Bat (None, 1024)              4096      \n",
      "_________________________________________________________________\n",
      "dropout_8 (Dropout)          (None, 1024)              0         \n",
      "_________________________________________________________________\n",
      "dense_4 (Dense)              (None, 5)                 5125      \n",
      "_________________________________________________________________\n",
      "activation_296 (Activation)  (None, 5)                 0         \n",
      "=================================================================\n",
      "Total params: 8,678,277\n",
      "Trainable params: 8,675,397\n",
      "Non-trainable params: 2,880\n",
      "_________________________________________________________________\n"
     ]
    }
   ],
   "source": [
    "model.summary()"
   ]
  },
  {
   "cell_type": "markdown",
   "metadata": {
    "id": "eLCq317QOcAk",
    "colab_type": "text"
   },
   "source": [
    "## TRAINING"
   ]
  },
  {
   "cell_type": "code",
   "execution_count": 40,
   "metadata": {
    "id": "V5MZ6lCuOcAl",
    "colab_type": "code",
    "colab": {
     "autoexec": {
      "startup": false,
      "wait_interval": 0.0
     },
     "base_uri": "https://localhost:8080/",
     "height": 10234.0
    },
    "outputId": "304b7a52-4398-4b49-d5ab-20d4802b8211",
    "executionInfo": {
     "status": "ok",
     "timestamp": 1.528700228254E12,
     "user_tz": -120.0,
     "elapsed": 893282.0,
     "user": {
      "displayName": "Lion Pierau",
      "photoUrl": "//lh4.googleusercontent.com/-hZmLaE0LrhY/AAAAAAAAAAI/AAAAAAAACTU/vPgZFO1gt6Y/s50-c-k-no/photo.jpg",
      "userId": "106948638632482276231"
     }
    }
   },
   "outputs": [
    {
     "name": "stdout",
     "output_type": "stream",
     "text": [
      "[INFO] training network...\n",
      "Epoch 1/300\n",
      "29/29 [==============================] - 8s 278ms/step - loss: 1.4363 - acc: 0.6082 - val_loss: 1.0817 - val_acc: 0.7735\n",
      "Epoch 2/300\n",
      "29/29 [==============================] - 3s 100ms/step - loss: 0.7243 - acc: 0.7940 - val_loss: 0.7950 - val_acc: 0.8333\n",
      "Epoch 3/300\n",
      "29/29 [==============================] - 3s 103ms/step - loss: 0.7605 - acc: 0.7786 - val_loss: 1.0488 - val_acc: 0.8248\n",
      "Epoch 4/300\n",
      "29/29 [==============================] - 3s 98ms/step - loss: 0.5669 - acc: 0.8393 - val_loss: 0.6138 - val_acc: 0.8419\n",
      "Epoch 5/300\n",
      "29/29 [==============================] - 3s 99ms/step - loss: 0.5314 - acc: 0.8351 - val_loss: 0.6968 - val_acc: 0.8162\n",
      "Epoch 6/300\n",
      "29/29 [==============================] - 3s 97ms/step - loss: 0.7215 - acc: 0.7929 - val_loss: 1.1276 - val_acc: 0.7436\n",
      "Epoch 7/300\n",
      "22/29 [=====================>........] - ETA: 0s - loss: 0.5426 - acc: 0.8324"
     ]
    },
    {
     "name": "stdout",
     "output_type": "stream",
     "text": [
      "29/29 [==============================] - 3s 100ms/step - loss: 0.5539 - acc: 0.8222 - val_loss: 0.7399 - val_acc: 0.8205\n",
      "Epoch 8/300\n",
      "29/29 [==============================] - 3s 99ms/step - loss: 0.5638 - acc: 0.8474 - val_loss: 0.7286 - val_acc: 0.8034\n",
      "Epoch 9/300\n",
      "29/29 [==============================] - 3s 99ms/step - loss: 0.5687 - acc: 0.8198 - val_loss: 1.9252 - val_acc: 0.5897\n",
      "Epoch 10/300\n",
      "29/29 [==============================] - 3s 98ms/step - loss: 0.5239 - acc: 0.8315 - val_loss: 1.4345 - val_acc: 0.6923\n",
      "Epoch 11/300\n",
      "29/29 [==============================] - 3s 98ms/step - loss: 0.6526 - acc: 0.8270 - val_loss: 0.6559 - val_acc: 0.8077\n",
      "Epoch 12/300\n",
      "29/29 [==============================] - 3s 101ms/step - loss: 0.4396 - acc: 0.8696 - val_loss: 0.4313 - val_acc: 0.8803\n",
      "Epoch 13/300\n",
      "29/29 [==============================] - 3s 99ms/step - loss: 0.3403 - acc: 0.8964 - val_loss: 0.4932 - val_acc: 0.9017\n",
      "Epoch 14/300\n",
      " 5/29 [====>.........................] - ETA: 1s - loss: 0.4020 - acc: 0.8663"
     ]
    },
    {
     "name": "stdout",
     "output_type": "stream",
     "text": [
      "29/29 [==============================] - 3s 102ms/step - loss: 0.4152 - acc: 0.8541 - val_loss: 0.4207 - val_acc: 0.8803\n",
      "Epoch 15/300\n",
      "29/29 [==============================] - 3s 100ms/step - loss: 0.4389 - acc: 0.8580 - val_loss: 0.4833 - val_acc: 0.8419\n",
      "Epoch 16/300\n",
      "29/29 [==============================] - 3s 95ms/step - loss: 0.3407 - acc: 0.8916 - val_loss: 0.2795 - val_acc: 0.9017\n",
      "Epoch 17/300\n",
      "29/29 [==============================] - 3s 102ms/step - loss: 0.3031 - acc: 0.9041 - val_loss: 1.2637 - val_acc: 0.7350\n",
      "Epoch 18/300\n",
      "29/29 [==============================] - 3s 100ms/step - loss: 0.3574 - acc: 0.8863 - val_loss: 0.7854 - val_acc: 0.7991\n",
      "Epoch 19/300\n",
      "29/29 [==============================] - 3s 98ms/step - loss: 0.3107 - acc: 0.8853 - val_loss: 0.5000 - val_acc: 0.8462\n",
      "Epoch 20/300\n",
      "29/29 [==============================] - 3s 103ms/step - loss: 0.3072 - acc: 0.9016 - val_loss: 0.5560 - val_acc: 0.8333\n",
      "Epoch 21/300\n",
      " 5/29 [====>.........................] - ETA: 1s - loss: 0.2248 - acc: 0.9125"
     ]
    },
    {
     "name": "stdout",
     "output_type": "stream",
     "text": [
      "29/29 [==============================] - 3s 102ms/step - loss: 0.2032 - acc: 0.9321 - val_loss: 0.5484 - val_acc: 0.8504\n",
      "Epoch 22/300\n",
      "29/29 [==============================] - 3s 96ms/step - loss: 0.3687 - acc: 0.8833 - val_loss: 0.4299 - val_acc: 0.8675\n",
      "Epoch 23/300\n",
      "29/29 [==============================] - 3s 97ms/step - loss: 0.3192 - acc: 0.8927 - val_loss: 0.3975 - val_acc: 0.9103\n",
      "Epoch 24/300\n",
      "29/29 [==============================] - 3s 97ms/step - loss: 0.2407 - acc: 0.9045 - val_loss: 0.8290 - val_acc: 0.8291\n",
      "Epoch 25/300\n",
      "29/29 [==============================] - 3s 103ms/step - loss: 0.2594 - acc: 0.9224 - val_loss: 0.6299 - val_acc: 0.8419\n",
      "Epoch 26/300\n",
      "29/29 [==============================] - 3s 100ms/step - loss: 0.2706 - acc: 0.9105 - val_loss: 0.3597 - val_acc: 0.9274\n",
      "Epoch 27/300\n",
      "29/29 [==============================] - 3s 99ms/step - loss: 0.2890 - acc: 0.9025 - val_loss: 0.2911 - val_acc: 0.8932\n",
      "Epoch 28/300\n",
      " 5/29 [====>.........................] - ETA: 1s - loss: 0.4319 - acc: 0.8688"
     ]
    },
    {
     "name": "stdout",
     "output_type": "stream",
     "text": [
      "29/29 [==============================] - 3s 98ms/step - loss: 0.2924 - acc: 0.9113 - val_loss: 0.6009 - val_acc: 0.8077\n",
      "Epoch 29/300\n",
      "29/29 [==============================] - 3s 99ms/step - loss: 0.3652 - acc: 0.9016 - val_loss: 1.1508 - val_acc: 0.8034\n",
      "Epoch 30/300\n",
      "29/29 [==============================] - 3s 97ms/step - loss: 0.3358 - acc: 0.8971 - val_loss: 0.7555 - val_acc: 0.7991\n",
      "Epoch 31/300\n",
      "29/29 [==============================] - 3s 97ms/step - loss: 0.2507 - acc: 0.9051 - val_loss: 0.4049 - val_acc: 0.9017\n",
      "Epoch 32/300\n",
      "29/29 [==============================] - 3s 101ms/step - loss: 0.2330 - acc: 0.9186 - val_loss: 1.0020 - val_acc: 0.8034\n",
      "Epoch 33/300\n",
      "29/29 [==============================] - 3s 100ms/step - loss: 0.3000 - acc: 0.9199 - val_loss: 0.3014 - val_acc: 0.9017\n",
      "Epoch 34/300\n",
      "29/29 [==============================] - 3s 98ms/step - loss: 0.2032 - acc: 0.9374 - val_loss: 0.2868 - val_acc: 0.9145\n",
      "Epoch 35/300\n",
      " 4/29 [===>..........................] - ETA: 1s - loss: 0.2442 - acc: 0.9297"
     ]
    },
    {
     "name": "stdout",
     "output_type": "stream",
     "text": [
      "29/29 [==============================] - 3s 100ms/step - loss: 0.2443 - acc: 0.9122 - val_loss: 0.5798 - val_acc: 0.8718\n",
      "Epoch 36/300\n",
      "29/29 [==============================] - 3s 102ms/step - loss: 0.2714 - acc: 0.9116 - val_loss: 0.5605 - val_acc: 0.8761\n",
      "Epoch 37/300\n",
      "29/29 [==============================] - 3s 100ms/step - loss: 0.1643 - acc: 0.9396 - val_loss: 0.3511 - val_acc: 0.9060\n",
      "Epoch 38/300\n",
      "29/29 [==============================] - 3s 98ms/step - loss: 0.1732 - acc: 0.9350 - val_loss: 0.2630 - val_acc: 0.9359\n",
      "Epoch 39/300\n",
      "29/29 [==============================] - 3s 99ms/step - loss: 0.3150 - acc: 0.9253 - val_loss: 1.3205 - val_acc: 0.7265\n",
      "Epoch 40/300\n",
      "29/29 [==============================] - 3s 98ms/step - loss: 0.3862 - acc: 0.8938 - val_loss: 0.3917 - val_acc: 0.8632\n",
      "Epoch 41/300\n",
      "29/29 [==============================] - 3s 100ms/step - loss: 0.2154 - acc: 0.9235 - val_loss: 0.3196 - val_acc: 0.9017\n",
      "Epoch 42/300\n",
      " 3/29 [==>...........................] - ETA: 1s - loss: 0.0388 - acc: 0.9896"
     ]
    },
    {
     "name": "stdout",
     "output_type": "stream",
     "text": [
      "29/29 [==============================] - 3s 97ms/step - loss: 0.1547 - acc: 0.9439 - val_loss: 0.7314 - val_acc: 0.8120\n",
      "Epoch 43/300\n",
      "29/29 [==============================] - 3s 101ms/step - loss: 0.1751 - acc: 0.9386 - val_loss: 0.4530 - val_acc: 0.8932\n",
      "Epoch 44/300\n",
      "29/29 [==============================] - 3s 95ms/step - loss: 0.3573 - acc: 0.8797 - val_loss: 1.5987 - val_acc: 0.6752\n",
      "Epoch 45/300\n",
      "29/29 [==============================] - 3s 99ms/step - loss: 0.2607 - acc: 0.9191 - val_loss: 0.8621 - val_acc: 0.7949\n",
      "Epoch 46/300\n",
      "29/29 [==============================] - 3s 98ms/step - loss: 0.3168 - acc: 0.9035 - val_loss: 2.7130 - val_acc: 0.5513\n",
      "Epoch 47/300\n",
      "29/29 [==============================] - 3s 99ms/step - loss: 0.2999 - acc: 0.9095 - val_loss: 1.9061 - val_acc: 0.6325\n",
      "Epoch 48/300\n",
      "29/29 [==============================] - 3s 96ms/step - loss: 0.4637 - acc: 0.8704 - val_loss: 1.1616 - val_acc: 0.7179\n",
      "Epoch 49/300\n",
      " 2/29 [=>............................] - ETA: 1s - loss: 0.3810 - acc: 0.8594"
     ]
    },
    {
     "name": "stdout",
     "output_type": "stream",
     "text": [
      "29/29 [==============================] - 3s 99ms/step - loss: 0.2788 - acc: 0.9041 - val_loss: 0.3203 - val_acc: 0.9060\n",
      "Epoch 50/300\n",
      "29/29 [==============================] - 3s 99ms/step - loss: 0.2116 - acc: 0.9202 - val_loss: 0.3633 - val_acc: 0.9188\n",
      "Epoch 51/300\n",
      "29/29 [==============================] - 3s 98ms/step - loss: 0.2323 - acc: 0.9199 - val_loss: 0.6519 - val_acc: 0.8846\n",
      "Epoch 52/300\n",
      "29/29 [==============================] - 3s 99ms/step - loss: 0.2074 - acc: 0.9286 - val_loss: 0.4729 - val_acc: 0.8590\n",
      "Epoch 53/300\n",
      "29/29 [==============================] - 3s 98ms/step - loss: 0.2124 - acc: 0.9318 - val_loss: 0.3989 - val_acc: 0.9017\n",
      "Epoch 54/300\n",
      "29/29 [==============================] - 3s 93ms/step - loss: 0.2157 - acc: 0.9285 - val_loss: 0.4589 - val_acc: 0.8761\n",
      "Epoch 55/300\n",
      "29/29 [==============================] - 3s 96ms/step - loss: 0.1816 - acc: 0.9504 - val_loss: 0.2808 - val_acc: 0.9402\n",
      "Epoch 56/300\n",
      " 5/29 [====>.........................] - ETA: 1s - loss: 0.2348 - acc: 0.9187"
     ]
    },
    {
     "name": "stdout",
     "output_type": "stream",
     "text": [
      "29/29 [==============================] - 3s 103ms/step - loss: 0.1626 - acc: 0.9440 - val_loss: 0.3833 - val_acc: 0.8846\n",
      "Epoch 57/300\n",
      "29/29 [==============================] - 3s 101ms/step - loss: 0.1405 - acc: 0.9383 - val_loss: 0.7337 - val_acc: 0.8291\n",
      "Epoch 58/300\n",
      "29/29 [==============================] - 3s 103ms/step - loss: 0.1589 - acc: 0.9469 - val_loss: 0.2710 - val_acc: 0.9060\n",
      "Epoch 59/300\n",
      "29/29 [==============================] - 3s 111ms/step - loss: 0.2419 - acc: 0.9227 - val_loss: 0.3079 - val_acc: 0.9274\n",
      "Epoch 60/300\n",
      "29/29 [==============================] - 3s 94ms/step - loss: 0.3845 - acc: 0.8728 - val_loss: 0.8640 - val_acc: 0.8162\n",
      "Epoch 61/300\n",
      "29/29 [==============================] - 3s 97ms/step - loss: 0.2274 - acc: 0.9253 - val_loss: 0.8152 - val_acc: 0.8419\n",
      "Epoch 62/300\n",
      "29/29 [==============================] - 3s 104ms/step - loss: 0.1960 - acc: 0.9343 - val_loss: 0.5335 - val_acc: 0.8803\n",
      "Epoch 63/300\n",
      " 4/29 [===>..........................] - ETA: 1s - loss: 0.8526 - acc: 0.8109"
     ]
    },
    {
     "name": "stdout",
     "output_type": "stream",
     "text": [
      "29/29 [==============================] - 3s 100ms/step - loss: 0.3514 - acc: 0.9043 - val_loss: 0.6231 - val_acc: 0.8718\n",
      "Epoch 64/300\n",
      "29/29 [==============================] - 3s 103ms/step - loss: 0.2235 - acc: 0.9119 - val_loss: 0.4362 - val_acc: 0.9060\n",
      "Epoch 65/300\n",
      "29/29 [==============================] - 3s 102ms/step - loss: 0.1708 - acc: 0.9329 - val_loss: 2.3897 - val_acc: 0.5385\n",
      "Epoch 66/300\n",
      "29/29 [==============================] - 3s 106ms/step - loss: 0.2533 - acc: 0.9199 - val_loss: 0.8157 - val_acc: 0.8162\n",
      "Epoch 67/300\n",
      "29/29 [==============================] - 3s 102ms/step - loss: 0.2082 - acc: 0.9385 - val_loss: 0.3189 - val_acc: 0.8846\n",
      "Epoch 68/300\n",
      "29/29 [==============================] - 3s 101ms/step - loss: 0.1634 - acc: 0.9471 - val_loss: 0.3305 - val_acc: 0.9060\n",
      "Epoch 69/300\n",
      "29/29 [==============================] - 3s 100ms/step - loss: 0.2322 - acc: 0.9275 - val_loss: 1.0544 - val_acc: 0.7735\n",
      "Epoch 70/300\n",
      " 4/29 [===>..........................] - ETA: 2s - loss: 0.1847 - acc: 0.9375"
     ]
    },
    {
     "name": "stdout",
     "output_type": "stream",
     "text": [
      "29/29 [==============================] - 3s 101ms/step - loss: 0.1548 - acc: 0.9482 - val_loss: 0.4223 - val_acc: 0.8889\n",
      "Epoch 71/300\n",
      "29/29 [==============================] - 3s 99ms/step - loss: 0.1745 - acc: 0.9480 - val_loss: 0.3366 - val_acc: 0.8974\n",
      "Epoch 72/300\n",
      "29/29 [==============================] - 3s 101ms/step - loss: 0.1471 - acc: 0.9394 - val_loss: 0.3556 - val_acc: 0.9231\n",
      "Epoch 73/300\n",
      "29/29 [==============================] - 3s 98ms/step - loss: 0.1789 - acc: 0.9350 - val_loss: 0.4635 - val_acc: 0.9060\n",
      "Epoch 74/300\n",
      "29/29 [==============================] - 3s 97ms/step - loss: 0.1799 - acc: 0.9426 - val_loss: 0.3471 - val_acc: 0.9103\n",
      "Epoch 75/300\n",
      "29/29 [==============================] - 3s 96ms/step - loss: 0.1459 - acc: 0.9504 - val_loss: 0.3761 - val_acc: 0.9188\n",
      "Epoch 76/300\n",
      "29/29 [==============================] - 3s 104ms/step - loss: 0.0956 - acc: 0.9698 - val_loss: 0.3549 - val_acc: 0.9231\n",
      "Epoch 77/300\n",
      " 3/29 [==>...........................] - ETA: 1s - loss: 0.1218 - acc: 0.9583"
     ]
    },
    {
     "name": "stdout",
     "output_type": "stream",
     "text": [
      "29/29 [==============================] - 3s 101ms/step - loss: 0.1787 - acc: 0.9437 - val_loss: 0.4747 - val_acc: 0.9017\n",
      "Epoch 78/300\n",
      "29/29 [==============================] - 3s 103ms/step - loss: 0.1864 - acc: 0.9337 - val_loss: 0.5034 - val_acc: 0.8761\n",
      "Epoch 79/300\n",
      "29/29 [==============================] - 3s 104ms/step - loss: 0.2285 - acc: 0.9286 - val_loss: 0.6598 - val_acc: 0.8718\n",
      "Epoch 80/300\n",
      "29/29 [==============================] - 3s 108ms/step - loss: 0.1566 - acc: 0.9504 - val_loss: 0.5008 - val_acc: 0.9017\n",
      "Epoch 81/300\n",
      "29/29 [==============================] - 3s 109ms/step - loss: 0.1795 - acc: 0.9361 - val_loss: 0.2647 - val_acc: 0.9274\n",
      "Epoch 82/300\n",
      "29/29 [==============================] - 3s 109ms/step - loss: 0.1799 - acc: 0.9415 - val_loss: 0.5193 - val_acc: 0.8846\n",
      "Epoch 83/300\n",
      "29/29 [==============================] - 3s 113ms/step - loss: 0.1260 - acc: 0.9537 - val_loss: 0.7150 - val_acc: 0.8590\n",
      "Epoch 84/300\n",
      " 6/29 [=====>........................] - ETA: 1s - loss: 0.1269 - acc: 0.9583"
     ]
    },
    {
     "name": "stdout",
     "output_type": "stream",
     "text": [
      "29/29 [==============================] - 3s 108ms/step - loss: 0.2131 - acc: 0.9421 - val_loss: 0.5616 - val_acc: 0.9017\n",
      "Epoch 85/300\n",
      "29/29 [==============================] - 3s 115ms/step - loss: 0.2042 - acc: 0.9289 - val_loss: 0.5275 - val_acc: 0.8889\n",
      "Epoch 86/300\n",
      "29/29 [==============================] - 3s 109ms/step - loss: 0.1731 - acc: 0.9437 - val_loss: 0.6269 - val_acc: 0.8718\n",
      "Epoch 87/300\n",
      "29/29 [==============================] - 3s 106ms/step - loss: 0.2472 - acc: 0.9210 - val_loss: 0.9974 - val_acc: 0.8462\n",
      "Epoch 88/300\n",
      "29/29 [==============================] - 3s 112ms/step - loss: 0.1412 - acc: 0.9546 - val_loss: 0.6320 - val_acc: 0.8846\n",
      "Epoch 89/300\n",
      "29/29 [==============================] - 3s 104ms/step - loss: 0.1378 - acc: 0.9558 - val_loss: 0.3646 - val_acc: 0.9145\n",
      "Epoch 90/300\n",
      "29/29 [==============================] - 3s 103ms/step - loss: 0.2749 - acc: 0.9327 - val_loss: 0.4500 - val_acc: 0.9060\n",
      "Epoch 91/300\n",
      " 3/29 [==>...........................] - ETA: 2s - loss: 0.1155 - acc: 0.9583"
     ]
    },
    {
     "name": "stdout",
     "output_type": "stream",
     "text": [
      "29/29 [==============================] - 3s 103ms/step - loss: 0.4038 - acc: 0.8927 - val_loss: 2.1062 - val_acc: 0.6838\n",
      "Epoch 92/300\n",
      "29/29 [==============================] - 3s 108ms/step - loss: 0.3111 - acc: 0.9035 - val_loss: 1.8954 - val_acc: 0.6368\n",
      "Epoch 93/300\n",
      "29/29 [==============================] - 3s 106ms/step - loss: 0.2627 - acc: 0.9154 - val_loss: 0.2242 - val_acc: 0.9316\n",
      "Epoch 94/300\n",
      "29/29 [==============================] - 3s 105ms/step - loss: 0.2028 - acc: 0.9275 - val_loss: 0.2216 - val_acc: 0.9231\n",
      "Epoch 95/300\n",
      "29/29 [==============================] - 3s 106ms/step - loss: 0.1141 - acc: 0.9601 - val_loss: 0.3155 - val_acc: 0.9274\n",
      "Epoch 96/300\n",
      "29/29 [==============================] - 3s 108ms/step - loss: 0.1525 - acc: 0.9525 - val_loss: 0.3805 - val_acc: 0.8761\n",
      "Epoch 97/300\n",
      "29/29 [==============================] - 3s 107ms/step - loss: 0.1384 - acc: 0.9547 - val_loss: 0.2846 - val_acc: 0.9274\n",
      "Epoch 98/300\n",
      " 5/29 [====>.........................] - ETA: 2s - loss: 0.2531 - acc: 0.9313"
     ]
    },
    {
     "name": "stdout",
     "output_type": "stream",
     "text": [
      "29/29 [==============================] - 3s 106ms/step - loss: 0.3619 - acc: 0.8971 - val_loss: 2.4066 - val_acc: 0.6966\n",
      "Epoch 99/300\n",
      "29/29 [==============================] - 3s 108ms/step - loss: 0.2226 - acc: 0.9165 - val_loss: 0.7552 - val_acc: 0.8291\n",
      "Epoch 100/300\n",
      "29/29 [==============================] - 3s 109ms/step - loss: 0.2127 - acc: 0.9278 - val_loss: 1.2567 - val_acc: 0.8120\n",
      "Epoch 101/300\n",
      "29/29 [==============================] - 3s 103ms/step - loss: 0.3606 - acc: 0.9037 - val_loss: 1.2098 - val_acc: 0.8120\n",
      "Epoch 102/300\n",
      "29/29 [==============================] - 3s 109ms/step - loss: 0.2228 - acc: 0.9343 - val_loss: 0.5844 - val_acc: 0.8889\n",
      "Epoch 103/300\n",
      "29/29 [==============================] - 3s 107ms/step - loss: 0.3144 - acc: 0.9146 - val_loss: 0.5208 - val_acc: 0.8974\n",
      "Epoch 104/300\n",
      "29/29 [==============================] - 3s 105ms/step - loss: 0.1903 - acc: 0.9331 - val_loss: 0.4248 - val_acc: 0.9017\n",
      "Epoch 105/300\n",
      " 2/29 [=>............................] - ETA: 1s - loss: 1.1974 - acc: 0.8688"
     ]
    },
    {
     "name": "stdout",
     "output_type": "stream",
     "text": [
      "29/29 [==============================] - 3s 106ms/step - loss: 0.2501 - acc: 0.9350 - val_loss: 0.3113 - val_acc: 0.9188\n",
      "Epoch 106/300\n",
      "29/29 [==============================] - 3s 104ms/step - loss: 0.1650 - acc: 0.9437 - val_loss: 0.5875 - val_acc: 0.8846\n",
      "Epoch 107/300\n",
      "29/29 [==============================] - 3s 106ms/step - loss: 0.1939 - acc: 0.9277 - val_loss: 0.2991 - val_acc: 0.9188\n",
      "Epoch 108/300\n",
      "29/29 [==============================] - 3s 104ms/step - loss: 0.1569 - acc: 0.9471 - val_loss: 0.3951 - val_acc: 0.9103\n",
      "Epoch 109/300\n",
      "29/29 [==============================] - 3s 105ms/step - loss: 0.1136 - acc: 0.9523 - val_loss: 0.6452 - val_acc: 0.8547\n",
      "Epoch 110/300\n",
      "29/29 [==============================] - 3s 106ms/step - loss: 0.1905 - acc: 0.9321 - val_loss: 0.2747 - val_acc: 0.9103\n",
      "Epoch 111/300\n",
      "29/29 [==============================] - 3s 104ms/step - loss: 0.1736 - acc: 0.9458 - val_loss: 0.3248 - val_acc: 0.9231\n",
      "Epoch 112/300\n",
      " 1/29 [>.............................] - ETA: 1s - loss: 0.1540 - acc: 0.9375"
     ]
    },
    {
     "name": "stdout",
     "output_type": "stream",
     "text": [
      "29/29 [==============================] - 3s 105ms/step - loss: 0.1412 - acc: 0.9545 - val_loss: 0.3575 - val_acc: 0.9103\n",
      "Epoch 113/300\n",
      "29/29 [==============================] - 3s 104ms/step - loss: 0.1337 - acc: 0.9512 - val_loss: 0.3244 - val_acc: 0.8932\n",
      "Epoch 114/300\n",
      "29/29 [==============================] - 3s 106ms/step - loss: 0.0914 - acc: 0.9633 - val_loss: 0.3134 - val_acc: 0.9060\n",
      "Epoch 115/300\n",
      "29/29 [==============================] - 3s 108ms/step - loss: 0.1467 - acc: 0.9599 - val_loss: 0.7060 - val_acc: 0.8333\n",
      "Epoch 116/300\n",
      "29/29 [==============================] - 3s 105ms/step - loss: 0.1743 - acc: 0.9515 - val_loss: 0.3330 - val_acc: 0.9145\n",
      "Epoch 117/300\n",
      "29/29 [==============================] - 3s 104ms/step - loss: 0.1459 - acc: 0.9590 - val_loss: 0.4786 - val_acc: 0.8846\n",
      "Epoch 118/300\n",
      "29/29 [==============================] - 3s 107ms/step - loss: 0.1006 - acc: 0.9579 - val_loss: 0.2830 - val_acc: 0.9188\n",
      "Epoch 119/300\n",
      " 2/29 [=>............................] - ETA: 2s - loss: 0.0340 - acc: 0.9844"
     ]
    },
    {
     "name": "stdout",
     "output_type": "stream",
     "text": [
      "29/29 [==============================] - 3s 103ms/step - loss: 0.1854 - acc: 0.9394 - val_loss: 0.8228 - val_acc: 0.8462\n",
      "Epoch 120/300\n",
      "29/29 [==============================] - 3s 105ms/step - loss: 0.2333 - acc: 0.9458 - val_loss: 0.4540 - val_acc: 0.9060\n",
      "Epoch 121/300\n",
      "29/29 [==============================] - 3s 110ms/step - loss: 0.3178 - acc: 0.9035 - val_loss: 1.1492 - val_acc: 0.7735\n",
      "Epoch 122/300\n",
      "29/29 [==============================] - 3s 106ms/step - loss: 0.2276 - acc: 0.9275 - val_loss: 0.5929 - val_acc: 0.8590\n",
      "Epoch 123/300\n",
      "29/29 [==============================] - 3s 105ms/step - loss: 0.1570 - acc: 0.9342 - val_loss: 0.4217 - val_acc: 0.9060\n",
      "Epoch 124/300\n",
      "29/29 [==============================] - 3s 104ms/step - loss: 0.1928 - acc: 0.9448 - val_loss: 0.7504 - val_acc: 0.8291\n",
      "Epoch 125/300\n",
      "29/29 [==============================] - 3s 110ms/step - loss: 0.2288 - acc: 0.9262 - val_loss: 0.4523 - val_acc: 0.8632\n",
      "Epoch 126/300\n",
      " 4/29 [===>..........................] - ETA: 2s - loss: 0.2745 - acc: 0.9141"
     ]
    },
    {
     "name": "stdout",
     "output_type": "stream",
     "text": [
      "29/29 [==============================] - 3s 111ms/step - loss: 0.2123 - acc: 0.9256 - val_loss: 0.2942 - val_acc: 0.9145\n",
      "Epoch 127/300\n",
      "29/29 [==============================] - 3s 106ms/step - loss: 0.1027 - acc: 0.9730 - val_loss: 0.2421 - val_acc: 0.9231\n",
      "Epoch 128/300\n",
      "29/29 [==============================] - 3s 103ms/step - loss: 0.1745 - acc: 0.9391 - val_loss: 0.3467 - val_acc: 0.9231\n",
      "Epoch 129/300\n",
      "29/29 [==============================] - 3s 108ms/step - loss: 0.1288 - acc: 0.9601 - val_loss: 0.2518 - val_acc: 0.9402\n",
      "Epoch 130/300\n",
      "29/29 [==============================] - 3s 104ms/step - loss: 0.1613 - acc: 0.9545 - val_loss: 0.4431 - val_acc: 0.9017\n",
      "Epoch 131/300\n",
      "29/29 [==============================] - 3s 106ms/step - loss: 0.1806 - acc: 0.9397 - val_loss: 0.2650 - val_acc: 0.9487\n",
      "Epoch 132/300\n",
      "29/29 [==============================] - 3s 100ms/step - loss: 0.1175 - acc: 0.9566 - val_loss: 0.4862 - val_acc: 0.9060\n",
      "Epoch 133/300\n",
      " 1/29 [>.............................] - ETA: 1s - loss: 0.0263 - acc: 1.0000"
     ]
    },
    {
     "name": "stdout",
     "output_type": "stream",
     "text": [
      "29/29 [==============================] - 3s 106ms/step - loss: 0.2101 - acc: 0.9378 - val_loss: 0.4441 - val_acc: 0.8932\n",
      "Epoch 134/300\n",
      "29/29 [==============================] - 3s 108ms/step - loss: 0.2595 - acc: 0.9370 - val_loss: 0.7844 - val_acc: 0.8462\n",
      "Epoch 135/300\n",
      "29/29 [==============================] - 3s 106ms/step - loss: 0.1626 - acc: 0.9537 - val_loss: 0.4683 - val_acc: 0.8889\n",
      "Epoch 136/300\n",
      "29/29 [==============================] - 3s 101ms/step - loss: 0.1808 - acc: 0.9391 - val_loss: 0.5448 - val_acc: 0.8889\n",
      "Epoch 137/300\n",
      "29/29 [==============================] - 3s 103ms/step - loss: 0.2018 - acc: 0.9407 - val_loss: 0.7894 - val_acc: 0.8419\n",
      "Epoch 138/300\n",
      "29/29 [==============================] - 3s 99ms/step - loss: 0.1645 - acc: 0.9391 - val_loss: 0.4588 - val_acc: 0.8803\n",
      "Epoch 139/300\n",
      "29/29 [==============================] - 3s 102ms/step - loss: 0.1457 - acc: 0.9558 - val_loss: 0.3176 - val_acc: 0.8932\n",
      "Epoch 140/300\n",
      " 2/29 [=>............................] - ETA: 1s - loss: 0.0671 - acc: 0.9844"
     ]
    },
    {
     "name": "stdout",
     "output_type": "stream",
     "text": [
      "29/29 [==============================] - 3s 102ms/step - loss: 0.1979 - acc: 0.9327 - val_loss: 0.2913 - val_acc: 0.9060\n",
      "Epoch 141/300\n",
      "29/29 [==============================] - 3s 98ms/step - loss: 0.1445 - acc: 0.9469 - val_loss: 0.7784 - val_acc: 0.8205\n",
      "Epoch 142/300\n",
      "29/29 [==============================] - 3s 104ms/step - loss: 0.1068 - acc: 0.9655 - val_loss: 0.2225 - val_acc: 0.9487\n",
      "Epoch 143/300\n",
      "29/29 [==============================] - 3s 102ms/step - loss: 0.1110 - acc: 0.9555 - val_loss: 0.3114 - val_acc: 0.9188\n",
      "Epoch 144/300\n",
      "29/29 [==============================] - 3s 102ms/step - loss: 0.2064 - acc: 0.9281 - val_loss: 0.3290 - val_acc: 0.9231\n",
      "Epoch 145/300\n",
      "29/29 [==============================] - 3s 103ms/step - loss: 0.1767 - acc: 0.9424 - val_loss: 0.4214 - val_acc: 0.8974\n",
      "Epoch 146/300\n",
      "29/29 [==============================] - 3s 102ms/step - loss: 0.2612 - acc: 0.9143 - val_loss: 1.1872 - val_acc: 0.7692\n",
      "Epoch 147/300\n",
      " 4/29 [===>..........................] - ETA: 1s - loss: 0.0441 - acc: 0.9922"
     ]
    },
    {
     "name": "stdout",
     "output_type": "stream",
     "text": [
      "29/29 [==============================] - 3s 102ms/step - loss: 0.1221 - acc: 0.9558 - val_loss: 0.7473 - val_acc: 0.8632\n",
      "Epoch 148/300\n",
      "29/29 [==============================] - 3s 99ms/step - loss: 0.1557 - acc: 0.9482 - val_loss: 0.7985 - val_acc: 0.8205\n",
      "Epoch 149/300\n",
      "29/29 [==============================] - 3s 99ms/step - loss: 0.0962 - acc: 0.9655 - val_loss: 0.3680 - val_acc: 0.9145\n",
      "Epoch 150/300\n",
      "29/29 [==============================] - 3s 99ms/step - loss: 0.1381 - acc: 0.9566 - val_loss: 1.4068 - val_acc: 0.7479\n",
      "Epoch 151/300\n",
      "29/29 [==============================] - 3s 102ms/step - loss: 0.1456 - acc: 0.9434 - val_loss: 0.4182 - val_acc: 0.8675\n",
      "Epoch 152/300\n",
      "29/29 [==============================] - 3s 104ms/step - loss: 0.2280 - acc: 0.9251 - val_loss: 0.4157 - val_acc: 0.9145\n",
      "Epoch 153/300\n",
      "29/29 [==============================] - 3s 100ms/step - loss: 0.1549 - acc: 0.9501 - val_loss: 0.3955 - val_acc: 0.8974\n",
      "Epoch 154/300\n",
      " 2/29 [=>............................] - ETA: 1s - loss: 0.0698 - acc: 0.9844"
     ]
    },
    {
     "name": "stdout",
     "output_type": "stream",
     "text": [
      "29/29 [==============================] - 3s 103ms/step - loss: 0.1203 - acc: 0.9591 - val_loss: 0.2756 - val_acc: 0.9444\n",
      "Epoch 155/300\n",
      "29/29 [==============================] - 3s 100ms/step - loss: 0.1539 - acc: 0.9512 - val_loss: 0.7001 - val_acc: 0.8590\n",
      "Epoch 156/300\n",
      "29/29 [==============================] - 3s 99ms/step - loss: 0.1941 - acc: 0.9385 - val_loss: 0.6107 - val_acc: 0.8675\n",
      "Epoch 157/300\n",
      "29/29 [==============================] - 3s 106ms/step - loss: 0.1387 - acc: 0.9580 - val_loss: 0.3197 - val_acc: 0.9274\n",
      "Epoch 158/300\n",
      "29/29 [==============================] - 3s 100ms/step - loss: 0.1052 - acc: 0.9644 - val_loss: 0.2241 - val_acc: 0.9359\n",
      "Epoch 159/300\n",
      "29/29 [==============================] - 3s 99ms/step - loss: 0.1021 - acc: 0.9588 - val_loss: 0.4264 - val_acc: 0.8590\n",
      "Epoch 160/300\n",
      "29/29 [==============================] - 3s 110ms/step - loss: 0.1144 - acc: 0.9547 - val_loss: 0.3237 - val_acc: 0.9145\n",
      "Epoch 161/300\n",
      " 2/29 [=>............................] - ETA: 1s - loss: 0.1367 - acc: 0.9688"
     ]
    },
    {
     "name": "stdout",
     "output_type": "stream",
     "text": [
      "29/29 [==============================] - 3s 96ms/step - loss: 0.0956 - acc: 0.9666 - val_loss: 0.2876 - val_acc: 0.9402\n",
      "Epoch 162/300\n",
      "29/29 [==============================] - 3s 97ms/step - loss: 0.1260 - acc: 0.9564 - val_loss: 0.3920 - val_acc: 0.9274\n",
      "Epoch 163/300\n",
      "29/29 [==============================] - 3s 99ms/step - loss: 0.1120 - acc: 0.9622 - val_loss: 0.5523 - val_acc: 0.9103\n",
      "Epoch 164/300\n",
      "29/29 [==============================] - 3s 98ms/step - loss: 0.0863 - acc: 0.9676 - val_loss: 0.3777 - val_acc: 0.9316\n",
      "Epoch 165/300\n",
      "29/29 [==============================] - 3s 98ms/step - loss: 0.0760 - acc: 0.9720 - val_loss: 0.3516 - val_acc: 0.9188\n",
      "Epoch 166/300\n",
      "29/29 [==============================] - 3s 99ms/step - loss: 0.0787 - acc: 0.9666 - val_loss: 0.2934 - val_acc: 0.9359\n",
      "Epoch 167/300\n",
      "29/29 [==============================] - 3s 97ms/step - loss: 0.0588 - acc: 0.9784 - val_loss: 0.3106 - val_acc: 0.9402\n"
     ]
    },
    {
     "name": "stdout",
     "output_type": "stream",
     "text": [
      "Epoch 168/300\n",
      "29/29 [==============================] - 3s 98ms/step - loss: 0.1395 - acc: 0.9642 - val_loss: 0.3167 - val_acc: 0.9274\n",
      "Epoch 169/300\n",
      "29/29 [==============================] - 3s 100ms/step - loss: 0.2012 - acc: 0.9230 - val_loss: 1.9377 - val_acc: 0.7308\n",
      "Epoch 170/300\n",
      "29/29 [==============================] - 3s 97ms/step - loss: 0.2288 - acc: 0.9286 - val_loss: 3.8423 - val_acc: 0.5470\n",
      "Epoch 171/300\n",
      "29/29 [==============================] - 3s 99ms/step - loss: 0.2978 - acc: 0.9025 - val_loss: 0.6252 - val_acc: 0.8547\n",
      "Epoch 172/300\n",
      "29/29 [==============================] - 3s 98ms/step - loss: 0.2410 - acc: 0.9098 - val_loss: 0.4349 - val_acc: 0.8718\n",
      "Epoch 173/300\n",
      "29/29 [==============================] - 3s 93ms/step - loss: 0.1439 - acc: 0.9546 - val_loss: 0.3005 - val_acc: 0.9103\n",
      "Epoch 174/300\n",
      "29/29 [==============================] - 3s 99ms/step - loss: 0.1070 - acc: 0.9666 - val_loss: 0.3697 - val_acc: 0.9103\n"
     ]
    },
    {
     "name": "stdout",
     "output_type": "stream",
     "text": [
      "Epoch 175/300\n",
      "29/29 [==============================] - 3s 98ms/step - loss: 0.1013 - acc: 0.9631 - val_loss: 1.1599 - val_acc: 0.8120\n",
      "Epoch 176/300\n",
      "29/29 [==============================] - 3s 101ms/step - loss: 0.3824 - acc: 0.8871 - val_loss: 0.8649 - val_acc: 0.7436\n",
      "Epoch 177/300\n",
      "29/29 [==============================] - 3s 102ms/step - loss: 0.3322 - acc: 0.8990 - val_loss: 0.5897 - val_acc: 0.8590\n",
      "Epoch 178/300\n",
      "29/29 [==============================] - 3s 95ms/step - loss: 0.1584 - acc: 0.9425 - val_loss: 0.4242 - val_acc: 0.8889\n",
      "Epoch 179/300\n",
      "29/29 [==============================] - 3s 98ms/step - loss: 0.1110 - acc: 0.9655 - val_loss: 0.4515 - val_acc: 0.8846\n",
      "Epoch 180/300\n",
      "29/29 [==============================] - 3s 96ms/step - loss: 0.1420 - acc: 0.9501 - val_loss: 1.0975 - val_acc: 0.8120\n",
      "Epoch 181/300\n",
      "29/29 [==============================] - 3s 95ms/step - loss: 0.1801 - acc: 0.9445 - val_loss: 1.3279 - val_acc: 0.7692\n",
      "Epoch 182/300\n",
      " 1/29 [>.............................] - ETA: 1s - loss: 0.0164 - acc: 1.0000"
     ]
    },
    {
     "name": "stdout",
     "output_type": "stream",
     "text": [
      "29/29 [==============================] - 3s 100ms/step - loss: 0.1327 - acc: 0.9493 - val_loss: 0.4868 - val_acc: 0.9017\n",
      "Epoch 183/300\n",
      "29/29 [==============================] - 3s 99ms/step - loss: 0.1298 - acc: 0.9545 - val_loss: 0.2976 - val_acc: 0.9402\n",
      "Epoch 184/300\n",
      "29/29 [==============================] - 3s 98ms/step - loss: 0.0906 - acc: 0.9622 - val_loss: 0.2655 - val_acc: 0.9316\n",
      "Epoch 185/300\n",
      "29/29 [==============================] - 3s 96ms/step - loss: 0.0947 - acc: 0.9674 - val_loss: 0.2764 - val_acc: 0.9444\n",
      "Epoch 186/300\n",
      "29/29 [==============================] - 3s 96ms/step - loss: 0.1297 - acc: 0.9609 - val_loss: 0.4207 - val_acc: 0.9017\n",
      "Epoch 187/300\n",
      "29/29 [==============================] - 3s 100ms/step - loss: 0.1505 - acc: 0.9525 - val_loss: 0.5764 - val_acc: 0.8889\n",
      "Epoch 188/300\n",
      "29/29 [==============================] - 3s 101ms/step - loss: 0.1137 - acc: 0.9601 - val_loss: 0.3325 - val_acc: 0.9188\n",
      "Epoch 189/300\n",
      " 3/29 [==>...........................] - ETA: 1s - loss: 0.1100 - acc: 0.9688"
     ]
    },
    {
     "name": "stdout",
     "output_type": "stream",
     "text": [
      "29/29 [==============================] - 3s 96ms/step - loss: 0.1785 - acc: 0.9421 - val_loss: 0.7252 - val_acc: 0.8974\n",
      "Epoch 190/300\n",
      "29/29 [==============================] - 3s 97ms/step - loss: 0.1120 - acc: 0.9555 - val_loss: 0.4144 - val_acc: 0.8974\n",
      "Epoch 191/300\n",
      "29/29 [==============================] - 3s 98ms/step - loss: 0.0834 - acc: 0.9698 - val_loss: 0.3645 - val_acc: 0.9231\n",
      "Epoch 192/300\n",
      "29/29 [==============================] - 3s 98ms/step - loss: 0.1252 - acc: 0.9577 - val_loss: 0.2314 - val_acc: 0.9359\n",
      "Epoch 193/300\n",
      "29/29 [==============================] - 3s 96ms/step - loss: 0.2370 - acc: 0.9345 - val_loss: 0.7472 - val_acc: 0.7863\n",
      "Epoch 194/300\n",
      "29/29 [==============================] - 3s 98ms/step - loss: 0.1661 - acc: 0.9491 - val_loss: 0.4296 - val_acc: 0.9231\n",
      "Epoch 195/300\n",
      "29/29 [==============================] - 3s 99ms/step - loss: 0.1029 - acc: 0.9720 - val_loss: 0.5027 - val_acc: 0.9145\n",
      "Epoch 196/300\n",
      " 3/29 [==>...........................] - ETA: 1s - loss: 0.1734 - acc: 0.9229"
     ]
    },
    {
     "name": "stdout",
     "output_type": "stream",
     "text": [
      "29/29 [==============================] - 3s 98ms/step - loss: 0.2495 - acc: 0.9000 - val_loss: 1.2521 - val_acc: 0.7906\n",
      "Epoch 197/300\n",
      "29/29 [==============================] - 3s 104ms/step - loss: 0.1592 - acc: 0.9407 - val_loss: 0.5980 - val_acc: 0.8718\n",
      "Epoch 198/300\n",
      "29/29 [==============================] - 3s 100ms/step - loss: 0.3271 - acc: 0.8911 - val_loss: 0.8040 - val_acc: 0.8889\n",
      "Epoch 199/300\n",
      "29/29 [==============================] - 3s 100ms/step - loss: 0.3372 - acc: 0.9018 - val_loss: 0.6465 - val_acc: 0.8889\n",
      "Epoch 200/300\n",
      "29/29 [==============================] - 3s 103ms/step - loss: 0.1658 - acc: 0.9472 - val_loss: 0.3498 - val_acc: 0.9103\n",
      "Epoch 201/300\n",
      "29/29 [==============================] - 3s 96ms/step - loss: 0.1326 - acc: 0.9600 - val_loss: 0.3745 - val_acc: 0.9103\n",
      "Epoch 202/300\n",
      "29/29 [==============================] - 3s 100ms/step - loss: 0.1216 - acc: 0.9580 - val_loss: 0.2993 - val_acc: 0.9444\n"
     ]
    },
    {
     "name": "stdout",
     "output_type": "stream",
     "text": [
      "Epoch 203/300\n",
      "29/29 [==============================] - 3s 96ms/step - loss: 0.0947 - acc: 0.9687 - val_loss: 0.4127 - val_acc: 0.8974\n",
      "Epoch 204/300\n",
      "29/29 [==============================] - 3s 96ms/step - loss: 0.0753 - acc: 0.9752 - val_loss: 0.2942 - val_acc: 0.9274\n",
      "Epoch 205/300\n",
      "29/29 [==============================] - 3s 99ms/step - loss: 0.1413 - acc: 0.9596 - val_loss: 1.2399 - val_acc: 0.7393\n",
      "Epoch 206/300\n",
      "29/29 [==============================] - 3s 96ms/step - loss: 0.1879 - acc: 0.9372 - val_loss: 0.7909 - val_acc: 0.8034\n",
      "Epoch 207/300\n",
      "29/29 [==============================] - 3s 97ms/step - loss: 0.1237 - acc: 0.9558 - val_loss: 0.3168 - val_acc: 0.9274\n",
      "Epoch 208/300\n",
      "29/29 [==============================] - 3s 99ms/step - loss: 0.1118 - acc: 0.9633 - val_loss: 0.3439 - val_acc: 0.9103\n",
      "Epoch 209/300\n",
      "29/29 [==============================] - 3s 95ms/step - loss: 0.0751 - acc: 0.9730 - val_loss: 0.3694 - val_acc: 0.9188\n",
      "Epoch 210/300\n",
      " 2/29 [=>............................] - ETA: 1s - loss: 0.0666 - acc: 0.9688"
     ]
    },
    {
     "name": "stdout",
     "output_type": "stream",
     "text": [
      "29/29 [==============================] - 3s 95ms/step - loss: 0.0830 - acc: 0.9752 - val_loss: 0.3385 - val_acc: 0.9231\n",
      "Epoch 211/300\n",
      "29/29 [==============================] - 3s 93ms/step - loss: 0.1103 - acc: 0.9622 - val_loss: 0.3075 - val_acc: 0.9359\n",
      "Epoch 212/300\n",
      "29/29 [==============================] - 3s 100ms/step - loss: 0.0652 - acc: 0.9774 - val_loss: 0.3710 - val_acc: 0.9402\n",
      "Epoch 213/300\n",
      "29/29 [==============================] - 3s 97ms/step - loss: 0.1435 - acc: 0.9499 - val_loss: 0.4215 - val_acc: 0.9188\n",
      "Epoch 214/300\n",
      "29/29 [==============================] - 3s 97ms/step - loss: 0.2271 - acc: 0.9283 - val_loss: 0.8881 - val_acc: 0.7949\n",
      "Epoch 215/300\n",
      "29/29 [==============================] - 3s 95ms/step - loss: 0.1558 - acc: 0.9545 - val_loss: 0.4566 - val_acc: 0.9188\n",
      "Epoch 216/300\n",
      "29/29 [==============================] - 3s 95ms/step - loss: 0.1199 - acc: 0.9633 - val_loss: 0.3859 - val_acc: 0.9487\n",
      "Epoch 217/300\n",
      " 4/29 [===>..........................] - ETA: 1s - loss: 0.0687 - acc: 0.9688"
     ]
    },
    {
     "name": "stdout",
     "output_type": "stream",
     "text": [
      "29/29 [==============================] - 3s 95ms/step - loss: 0.1265 - acc: 0.9609 - val_loss: 0.4851 - val_acc: 0.9103\n",
      "Epoch 218/300\n",
      "29/29 [==============================] - 3s 107ms/step - loss: 0.0855 - acc: 0.9674 - val_loss: 0.4296 - val_acc: 0.9316\n",
      "Epoch 219/300\n",
      "29/29 [==============================] - 3s 98ms/step - loss: 0.1282 - acc: 0.9590 - val_loss: 0.4505 - val_acc: 0.9359\n",
      "Epoch 220/300\n",
      "29/29 [==============================] - 3s 107ms/step - loss: 0.0925 - acc: 0.9655 - val_loss: 0.3713 - val_acc: 0.9231\n",
      "Epoch 221/300\n",
      "29/29 [==============================] - 3s 102ms/step - loss: 0.0893 - acc: 0.9642 - val_loss: 0.4001 - val_acc: 0.9274\n",
      "Epoch 222/300\n",
      "29/29 [==============================] - 3s 104ms/step - loss: 0.0585 - acc: 0.9773 - val_loss: 0.2938 - val_acc: 0.9402\n",
      "Epoch 223/300\n",
      "29/29 [==============================] - 3s 102ms/step - loss: 0.2200 - acc: 0.9483 - val_loss: 0.4017 - val_acc: 0.9145\n",
      "Epoch 224/300\n",
      " 1/29 [>.............................] - ETA: 1s - loss: 0.0129 - acc: 1.0000"
     ]
    },
    {
     "name": "stdout",
     "output_type": "stream",
     "text": [
      "29/29 [==============================] - 3s 107ms/step - loss: 0.1414 - acc: 0.9580 - val_loss: 0.4722 - val_acc: 0.9103\n",
      "Epoch 225/300\n",
      "29/29 [==============================] - 3s 105ms/step - loss: 0.1041 - acc: 0.9574 - val_loss: 0.5560 - val_acc: 0.8718\n",
      "Epoch 226/300\n",
      "29/29 [==============================] - 3s 114ms/step - loss: 0.1199 - acc: 0.9601 - val_loss: 0.4182 - val_acc: 0.9145\n",
      "Epoch 227/300\n",
      "29/29 [==============================] - 3s 101ms/step - loss: 0.2086 - acc: 0.9545 - val_loss: 0.3939 - val_acc: 0.9188\n",
      "Epoch 228/300\n",
      "29/29 [==============================] - 3s 106ms/step - loss: 0.0572 - acc: 0.9817 - val_loss: 0.3008 - val_acc: 0.9487\n",
      "Epoch 229/300\n",
      "29/29 [==============================] - 3s 108ms/step - loss: 0.0688 - acc: 0.9741 - val_loss: 0.3134 - val_acc: 0.9444\n",
      "Epoch 230/300\n",
      "29/29 [==============================] - 3s 98ms/step - loss: 0.0743 - acc: 0.9674 - val_loss: 0.2941 - val_acc: 0.9359\n",
      "Epoch 231/300\n",
      " 4/29 [===>..........................] - ETA: 2s - loss: 0.0165 - acc: 0.9922"
     ]
    },
    {
     "name": "stdout",
     "output_type": "stream",
     "text": [
      "29/29 [==============================] - 3s 107ms/step - loss: 0.0558 - acc: 0.9784 - val_loss: 0.2321 - val_acc: 0.9615\n",
      "Epoch 232/300\n",
      "29/29 [==============================] - 3s 100ms/step - loss: 0.0936 - acc: 0.9663 - val_loss: 0.2209 - val_acc: 0.9444\n",
      "Epoch 233/300\n",
      "29/29 [==============================] - 3s 100ms/step - loss: 0.0517 - acc: 0.9795 - val_loss: 0.2545 - val_acc: 0.9402\n",
      "Epoch 234/300\n",
      "29/29 [==============================] - 3s 109ms/step - loss: 0.0587 - acc: 0.9752 - val_loss: 0.2742 - val_acc: 0.9444\n",
      "Epoch 235/300\n",
      "29/29 [==============================] - 3s 104ms/step - loss: 0.0820 - acc: 0.9763 - val_loss: 0.3126 - val_acc: 0.9402\n",
      "Epoch 236/300\n",
      "29/29 [==============================] - 3s 104ms/step - loss: 0.0642 - acc: 0.9752 - val_loss: 0.2998 - val_acc: 0.9530\n",
      "Epoch 237/300\n",
      "29/29 [==============================] - 3s 111ms/step - loss: 0.1382 - acc: 0.9594 - val_loss: 0.3001 - val_acc: 0.9274\n"
     ]
    },
    {
     "name": "stdout",
     "output_type": "stream",
     "text": [
      "Epoch 238/300\n",
      "29/29 [==============================] - 3s 111ms/step - loss: 0.0901 - acc: 0.9609 - val_loss: 0.3869 - val_acc: 0.9274\n",
      "Epoch 239/300\n",
      "29/29 [==============================] - 3s 102ms/step - loss: 0.0615 - acc: 0.9774 - val_loss: 0.3749 - val_acc: 0.9316\n",
      "Epoch 240/300\n",
      "29/29 [==============================] - 3s 103ms/step - loss: 0.0926 - acc: 0.9706 - val_loss: 0.4149 - val_acc: 0.9316\n",
      "Epoch 241/300\n",
      "29/29 [==============================] - 3s 103ms/step - loss: 0.1414 - acc: 0.9357 - val_loss: 0.4956 - val_acc: 0.8974\n",
      "Epoch 242/300\n",
      "29/29 [==============================] - 3s 102ms/step - loss: 0.0652 - acc: 0.9817 - val_loss: 0.3128 - val_acc: 0.9487\n",
      "Epoch 243/300\n",
      "29/29 [==============================] - 3s 107ms/step - loss: 0.0542 - acc: 0.9827 - val_loss: 0.2544 - val_acc: 0.9615\n",
      "Epoch 244/300\n",
      "29/29 [==============================] - 3s 104ms/step - loss: 0.0662 - acc: 0.9795 - val_loss: 0.3182 - val_acc: 0.9487\n"
     ]
    },
    {
     "name": "stdout",
     "output_type": "stream",
     "text": [
      "Epoch 245/300\n",
      "29/29 [==============================] - 3s 104ms/step - loss: 0.1220 - acc: 0.9663 - val_loss: 0.5437 - val_acc: 0.8718\n",
      "Epoch 246/300\n",
      "29/29 [==============================] - 3s 105ms/step - loss: 0.0910 - acc: 0.9644 - val_loss: 0.5790 - val_acc: 0.9103\n",
      "Epoch 247/300\n",
      "29/29 [==============================] - 3s 106ms/step - loss: 0.0588 - acc: 0.9817 - val_loss: 0.3812 - val_acc: 0.9402\n",
      "Epoch 248/300\n",
      "29/29 [==============================] - 3s 100ms/step - loss: 0.0897 - acc: 0.9741 - val_loss: 0.2626 - val_acc: 0.9487\n",
      "Epoch 249/300\n",
      "29/29 [==============================] - 3s 103ms/step - loss: 0.0694 - acc: 0.9728 - val_loss: 0.3250 - val_acc: 0.9487\n",
      "Epoch 250/300\n",
      "29/29 [==============================] - 3s 104ms/step - loss: 0.1210 - acc: 0.9577 - val_loss: 0.3550 - val_acc: 0.9359\n",
      "Epoch 251/300\n",
      "29/29 [==============================] - 3s 103ms/step - loss: 0.0879 - acc: 0.9676 - val_loss: 0.6769 - val_acc: 0.8932\n"
     ]
    },
    {
     "name": "stdout",
     "output_type": "stream",
     "text": [
      "Epoch 252/300\n",
      "29/29 [==============================] - 3s 105ms/step - loss: 0.1009 - acc: 0.9720 - val_loss: 0.3713 - val_acc: 0.9359\n",
      "Epoch 253/300\n",
      "29/29 [==============================] - 3s 99ms/step - loss: 0.1258 - acc: 0.9674 - val_loss: 0.3767 - val_acc: 0.9402\n",
      "Epoch 254/300\n",
      "29/29 [==============================] - 3s 103ms/step - loss: 0.1335 - acc: 0.9591 - val_loss: 0.4615 - val_acc: 0.8974\n",
      "Epoch 255/300\n",
      "29/29 [==============================] - 3s 100ms/step - loss: 0.1488 - acc: 0.9456 - val_loss: 0.7510 - val_acc: 0.8932\n",
      "Epoch 256/300\n",
      "29/29 [==============================] - 3s 105ms/step - loss: 0.0939 - acc: 0.9623 - val_loss: 0.2971 - val_acc: 0.9487\n",
      "Epoch 257/300\n",
      "29/29 [==============================] - 3s 100ms/step - loss: 0.1081 - acc: 0.9655 - val_loss: 0.3341 - val_acc: 0.9316\n",
      "Epoch 258/300\n",
      "29/29 [==============================] - 3s 104ms/step - loss: 0.0637 - acc: 0.9763 - val_loss: 0.2918 - val_acc: 0.9359\n",
      "Epoch 259/300\n",
      " 1/29 [>.............................] - ETA: 2s - loss: 0.0132 - acc: 1.0000"
     ]
    },
    {
     "name": "stdout",
     "output_type": "stream",
     "text": [
      "29/29 [==============================] - 3s 103ms/step - loss: 0.0422 - acc: 0.9860 - val_loss: 0.3310 - val_acc: 0.9487\n",
      "Epoch 260/300\n",
      "29/29 [==============================] - 3s 101ms/step - loss: 0.1030 - acc: 0.9663 - val_loss: 0.7152 - val_acc: 0.8504\n",
      "Epoch 261/300\n",
      "29/29 [==============================] - 3s 105ms/step - loss: 0.0880 - acc: 0.9698 - val_loss: 0.3632 - val_acc: 0.9316\n",
      "Epoch 262/300\n",
      "29/29 [==============================] - 3s 104ms/step - loss: 0.1222 - acc: 0.9564 - val_loss: 0.4484 - val_acc: 0.9017\n",
      "Epoch 263/300\n",
      "29/29 [==============================] - 3s 103ms/step - loss: 0.1763 - acc: 0.9491 - val_loss: 0.3624 - val_acc: 0.9402\n",
      "Epoch 264/300\n",
      "29/29 [==============================] - 3s 104ms/step - loss: 0.3867 - acc: 0.9111 - val_loss: 1.8129 - val_acc: 0.7436\n",
      "Epoch 265/300\n",
      "29/29 [==============================] - 3s 104ms/step - loss: 0.1697 - acc: 0.9482 - val_loss: 0.8653 - val_acc: 0.8419\n",
      "Epoch 266/300\n",
      " 1/29 [>.............................] - ETA: 1s - loss: 0.0740 - acc: 0.9688"
     ]
    },
    {
     "name": "stdout",
     "output_type": "stream",
     "text": [
      "29/29 [==============================] - 3s 103ms/step - loss: 0.1359 - acc: 0.9622 - val_loss: 0.6318 - val_acc: 0.8846\n",
      "Epoch 267/300\n",
      "29/29 [==============================] - 3s 102ms/step - loss: 0.1034 - acc: 0.9698 - val_loss: 0.8559 - val_acc: 0.8675\n",
      "Epoch 268/300\n",
      "29/29 [==============================] - 3s 102ms/step - loss: 0.2257 - acc: 0.9454 - val_loss: 0.2916 - val_acc: 0.9231\n",
      "Epoch 269/300\n",
      "29/29 [==============================] - 3s 103ms/step - loss: 0.1484 - acc: 0.9525 - val_loss: 0.2362 - val_acc: 0.9530\n",
      "Epoch 270/300\n",
      "29/29 [==============================] - 3s 102ms/step - loss: 0.1480 - acc: 0.9499 - val_loss: 0.8185 - val_acc: 0.7906\n",
      "Epoch 271/300\n",
      "29/29 [==============================] - 3s 104ms/step - loss: 0.1181 - acc: 0.9577 - val_loss: 0.4041 - val_acc: 0.9103\n",
      "Epoch 272/300\n",
      "29/29 [==============================] - 3s 106ms/step - loss: 0.1513 - acc: 0.9437 - val_loss: 0.7282 - val_acc: 0.8462\n"
     ]
    },
    {
     "name": "stdout",
     "output_type": "stream",
     "text": [
      "Epoch 273/300\n",
      "29/29 [==============================] - 3s 104ms/step - loss: 0.1360 - acc: 0.9588 - val_loss: 0.3381 - val_acc: 0.9188\n",
      "Epoch 274/300\n",
      "29/29 [==============================] - 3s 103ms/step - loss: 0.1008 - acc: 0.9676 - val_loss: 0.2390 - val_acc: 0.9573\n",
      "Epoch 275/300\n",
      "29/29 [==============================] - 3s 101ms/step - loss: 0.1669 - acc: 0.9523 - val_loss: 0.4292 - val_acc: 0.8932\n",
      "Epoch 276/300\n",
      "29/29 [==============================] - 3s 99ms/step - loss: 0.2267 - acc: 0.9478 - val_loss: 0.5126 - val_acc: 0.8974\n",
      "Epoch 277/300\n",
      "29/29 [==============================] - 3s 105ms/step - loss: 0.2201 - acc: 0.9300 - val_loss: 0.7782 - val_acc: 0.8376\n",
      "Epoch 278/300\n",
      "29/29 [==============================] - 3s 110ms/step - loss: 0.1186 - acc: 0.9577 - val_loss: 0.4540 - val_acc: 0.8932\n",
      "Epoch 279/300\n",
      "25/29 [========================>.....] - ETA: 0s - loss: 0.0942 - acc: 0.9700"
     ]
    },
    {
     "name": "stdout",
     "output_type": "stream",
     "text": [
      "29/29 [==============================] - 3s 101ms/step - loss: 0.0881 - acc: 0.9720 - val_loss: 0.3364 - val_acc: 0.9359\n",
      "Epoch 280/300\n",
      "29/29 [==============================] - 3s 102ms/step - loss: 0.0771 - acc: 0.9741 - val_loss: 0.2930 - val_acc: 0.9402\n",
      "Epoch 281/300\n",
      "29/29 [==============================] - 3s 99ms/step - loss: 0.1073 - acc: 0.9652 - val_loss: 0.4697 - val_acc: 0.9145\n",
      "Epoch 282/300\n",
      "29/29 [==============================] - 3s 104ms/step - loss: 0.1318 - acc: 0.9504 - val_loss: 0.4280 - val_acc: 0.9103\n",
      "Epoch 283/300\n",
      "29/29 [==============================] - 3s 99ms/step - loss: 0.2393 - acc: 0.9294 - val_loss: 1.5929 - val_acc: 0.7521\n",
      "Epoch 284/300\n",
      "29/29 [==============================] - 3s 101ms/step - loss: 0.1734 - acc: 0.9482 - val_loss: 0.7484 - val_acc: 0.8718\n",
      "Epoch 285/300\n",
      "29/29 [==============================] - 3s 105ms/step - loss: 0.1051 - acc: 0.9688 - val_loss: 0.3835 - val_acc: 0.9103\n",
      "Epoch 286/300\n",
      " 1/29 [>.............................] - ETA: 1s - loss: 0.0387 - acc: 1.0000"
     ]
    },
    {
     "name": "stdout",
     "output_type": "stream",
     "text": [
      "29/29 [==============================] - 3s 101ms/step - loss: 0.1574 - acc: 0.9620 - val_loss: 0.2843 - val_acc: 0.9316\n",
      "Epoch 287/300\n",
      "29/29 [==============================] - 3s 101ms/step - loss: 0.0567 - acc: 0.9838 - val_loss: 0.3172 - val_acc: 0.9402\n",
      "Epoch 288/300\n",
      "29/29 [==============================] - 3s 98ms/step - loss: 0.0707 - acc: 0.9698 - val_loss: 0.2812 - val_acc: 0.9359\n",
      "Epoch 289/300\n",
      "29/29 [==============================] - 3s 104ms/step - loss: 0.0650 - acc: 0.9763 - val_loss: 0.2849 - val_acc: 0.9530\n",
      "Epoch 290/300\n",
      "29/29 [==============================] - 3s 101ms/step - loss: 0.0624 - acc: 0.9784 - val_loss: 0.2960 - val_acc: 0.9316\n",
      "Epoch 291/300\n",
      "29/29 [==============================] - 3s 100ms/step - loss: 0.0932 - acc: 0.9687 - val_loss: 0.3044 - val_acc: 0.9402\n",
      "Epoch 292/300\n",
      "29/29 [==============================] - 3s 104ms/step - loss: 0.0722 - acc: 0.9720 - val_loss: 0.2802 - val_acc: 0.9444\n",
      "Epoch 293/300\n",
      " 1/29 [>.............................] - ETA: 1s - loss: 0.0143 - acc: 1.0000"
     ]
    },
    {
     "name": "stdout",
     "output_type": "stream",
     "text": [
      "29/29 [==============================] - 3s 100ms/step - loss: 0.0650 - acc: 0.9773 - val_loss: 0.2473 - val_acc: 0.9402\n",
      "Epoch 294/300\n",
      "29/29 [==============================] - 3s 106ms/step - loss: 0.1363 - acc: 0.9488 - val_loss: 3.1404 - val_acc: 0.5513\n",
      "Epoch 295/300\n",
      "29/29 [==============================] - 3s 102ms/step - loss: 0.3521 - acc: 0.9073 - val_loss: 2.5599 - val_acc: 0.6624\n",
      "Epoch 296/300\n",
      "29/29 [==============================] - 3s 100ms/step - loss: 0.2443 - acc: 0.9216 - val_loss: 0.6927 - val_acc: 0.8333\n",
      "Epoch 297/300\n",
      "29/29 [==============================] - 3s 101ms/step - loss: 0.1495 - acc: 0.9461 - val_loss: 0.6289 - val_acc: 0.8932\n",
      "Epoch 298/300\n",
      "29/29 [==============================] - 3s 102ms/step - loss: 0.1306 - acc: 0.9558 - val_loss: 0.5305 - val_acc: 0.8889\n",
      "Epoch 299/300\n",
      "29/29 [==============================] - 3s 101ms/step - loss: 0.1340 - acc: 0.9515 - val_loss: 0.5308 - val_acc: 0.8974\n",
      "Epoch 300/300\n",
      " 3/29 [==>...........................] - ETA: 1s - loss: 0.1287 - acc: 0.9375"
     ]
    },
    {
     "name": "stdout",
     "output_type": "stream",
     "text": [
      "29/29 [==============================] - 3s 103ms/step - loss: 0.1532 - acc: 0.9609 - val_loss: 0.4159 - val_acc: 0.9444\n"
     ]
    }
   ],
   "source": [
    "print(\"[INFO] training network...\")\n",
    "H = model.fit_generator(aug.flow(trainX, trainY, batch_size=BS),\n",
    "                        validation_data=(testX, testY),\n",
    "                        steps_per_epoch=len(trainX) // BS,\n",
    "                        epochs=EPOCHS,\n",
    "                        verbose=1)"
   ]
  },
  {
   "cell_type": "code",
   "execution_count": 41,
   "metadata": {
    "id": "2Q2x2MTxaB2T",
    "colab_type": "code",
    "colab": {
     "autoexec": {
      "startup": false,
      "wait_interval": 0.0
     },
     "base_uri": "https://localhost:8080/",
     "height": 779.0
    },
    "outputId": "cef01fdd-98d4-48bd-b220-871877f20640",
    "executionInfo": {
     "status": "ok",
     "timestamp": 1.528700237428E12,
     "user_tz": -120.0,
     "elapsed": 9121.0,
     "user": {
      "displayName": "Lion Pierau",
      "photoUrl": "//lh4.googleusercontent.com/-hZmLaE0LrhY/AAAAAAAAAAI/AAAAAAAACTU/vPgZFO1gt6Y/s50-c-k-no/photo.jpg",
      "userId": "106948638632482276231"
     }
    }
   },
   "outputs": [
    {
     "name": "stdout",
     "output_type": "stream",
     "text": [
      "('Test loss:    ', 0.4158997577373794)\n",
      "('Test accuracy:', 0.9444444444444444)\n",
      "[INFO] serializing network...\n",
      "[INFO] serializing label binarizer...\n"
     ]
    },
    {
     "data": {
      "image/png": "[encoded data removed]",
      "text/plain": [
       "<matplotlib.figure.Figure at 0x7f0604885d90>"
      ]
     },
     "metadata": {
      "tags": []
     },
     "output_type": "display_data"
    },
    {
     "data": {
      "image/png": "[encoded data removed]",
      "text/plain": [
       "<matplotlib.figure.Figure at 0x7f06047a0310>"
      ]
     },
     "metadata": {
      "tags": []
     },
     "output_type": "display_data"
    }
   ],
   "source": [
    "score = model.evaluate(testX, testY, verbose=0)\n",
    "print('Test loss:    ', score[0])\n",
    "print('Test accuracy:', score[1])\n",
    "\n",
    "# save the model to disk\n",
    "print(\"[INFO] serializing network...\")\n",
    "model.save(MODEL_FILE)\n",
    "\n",
    "# save the label binarizer to disk\n",
    "print(\"[INFO] serializing label binarizer...\")\n",
    "f = open(LABEL_BIN, \"wb\")\n",
    "f.write(pickle.dumps(lb))\n",
    "f.close()\n",
    "\n",
    "# plot the training loss and accuracy\n",
    "N = EPOCHS\n",
    "plt.style.use(\"ggplot\")\n",
    "\n",
    "plt.figure(0)\n",
    "plt.xlabel('Epochen')\n",
    "plt.ylabel('Loss')\n",
    "plt.plot(np.arange(0, N), H.history['loss'])\n",
    "plt.plot(np.arange(0, N), H.history['val_loss'])\n",
    "plt.legend(['Training', 'Validation'])\n",
    "\n",
    "plt.figure(1)\n",
    "plt.xlabel('Epochen')\n",
    "plt.ylabel('Accuracy')\n",
    "plt.plot(np.arange(0, N), H.history['acc'])\n",
    "plt.plot(np.arange(0, N), H.history['val_acc'])\n",
    "plt.legend(['Training', 'Validation'], loc='lower right')\n",
    "\n",
    "plt.show()\n"
   ]
  },
  {
   "cell_type": "markdown",
   "metadata": {
    "id": "iBIrsMeCjRED",
    "colab_type": "text"
   },
   "source": [
    "## ERROR ANALYSIS\n",
    "1. show some wrong classified numbers\n",
    "2. Confusion-Matrix (= wer wird mit wem verwechselt?)"
   ]
  },
  {
   "cell_type": "code",
   "execution_count": 42,
   "metadata": {
    "id": "nhOEqtYldwZD",
    "colab_type": "code",
    "colab": {
     "autoexec": {
      "startup": false,
      "wait_interval": 0.0
     },
     "base_uri": "https://localhost:8080/",
     "height": 85.0
    },
    "outputId": "b6224cd6-ae60-4591-d725-d89242763b60",
    "executionInfo": {
     "status": "ok",
     "timestamp": 1.528700500666E12,
     "user_tz": -120.0,
     "elapsed": 2770.0,
     "user": {
      "displayName": "Lion Pierau",
      "photoUrl": "//lh4.googleusercontent.com/-hZmLaE0LrhY/AAAAAAAAAAI/AAAAAAAACTU/vPgZFO1gt6Y/s50-c-k-no/photo.jpg",
      "userId": "106948638632482276231"
     }
    }
   },
   "outputs": [
    {
     "name": "stderr",
     "output_type": "stream",
     "text": [
      "/usr/local/lib/python2.7/dist-packages/ipykernel_launcher.py:4: DeprecationWarning: elementwise == comparison failed; this will raise an error in the future.\n",
      "  after removing the cwd from sys.path.\n",
      "/usr/local/lib/python2.7/dist-packages/ipykernel_launcher.py:5: DeprecationWarning: elementwise != comparison failed; this will raise an error in the future.\n",
      "  \"\"\"\n"
     ]
    }
   ],
   "source": [
    "# predict test data \n",
    "predicted_classes = model.predict_classes(testX)\n",
    "\n",
    "# find indices of correct an wrong classified numbers\n",
    "correct   = np.nonzero(predicted_classes == testY)[0]     # nonzero:  Return the indices of array-\n",
    "incorrect = np.nonzero(predicted_classes != testY)[0]     #           elements that are non-zero"
   ]
  },
  {
   "cell_type": "code",
   "execution_count": 45,
   "metadata": {
    "id": "hDVBYAkwjjUI",
    "colab_type": "code",
    "colab": {
     "autoexec": {
      "startup": false,
      "wait_interval": 0.0
     },
     "base_uri": "https://localhost:8080/",
     "height": 222.0
    },
    "outputId": "4cf9f02f-7509-4c8f-aa5f-b333ae795ab2",
    "executionInfo": {
     "status": "ok",
     "timestamp": 1.528700523644E12,
     "user_tz": -120.0,
     "elapsed": 630.0,
     "user": {
      "displayName": "Lion Pierau",
      "photoUrl": "//lh4.googleusercontent.com/-hZmLaE0LrhY/AAAAAAAAAAI/AAAAAAAACTU/vPgZFO1gt6Y/s50-c-k-no/photo.jpg",
      "userId": "106948638632482276231"
     }
    }
   },
   "outputs": [
    {
     "data": {
      "text/plain": [
       "<matplotlib.figure.Figure at 0x7f0603f36c10>"
      ]
     },
     "metadata": {
      "tags": []
     },
     "output_type": "display_data"
    },
    {
     "data": {
      "image/png": "[encoded data removed]",
      "text/plain": [
       "<matplotlib.figure.Figure at 0x7f0603f369d0>"
      ]
     },
     "metadata": {
      "tags": []
     },
     "output_type": "display_data"
    }
   ],
   "source": [
    "start                = 0    # Startindex\n",
    "\n",
    "plt.figure(3)\n",
    "plt.figure(figsize   = (12,8))\n",
    "           \n",
    "for i, incorr in enumerate(incorrect[start:start+15]):\n",
    "    plt.subplot(3, 5, i+1)\n",
    "    plt.imshow(testX[incorr])\n",
    "    plt.title(\"{}, erkannt als {}\".format(testY[incorr], predicted_classes[incorr]))\n",
    "    plt.tight_layout()"
   ]
  },
  {
   "cell_type": "code",
   "execution_count": 47,
   "metadata": {
    "id": "Lf2ptc9vmQUF",
    "colab_type": "code",
    "colab": {
     "autoexec": {
      "startup": false,
      "wait_interval": 0.0
     },
     "base_uri": "https://localhost:8080/",
     "height": 435.0
    },
    "outputId": "0ab50a02-2d63-4a8e-df21-0276530061b5",
    "executionInfo": {
     "status": "error",
     "timestamp": 1.528700535222E12,
     "user_tz": -120.0,
     "elapsed": 708.0,
     "user": {
      "displayName": "Lion Pierau",
      "photoUrl": "//lh4.googleusercontent.com/-hZmLaE0LrhY/AAAAAAAAAAI/AAAAAAAACTU/vPgZFO1gt6Y/s50-c-k-no/photo.jpg",
      "userId": "106948638632482276231"
     }
    }
   },
   "outputs": [
    {
     "ename": "ValueError",
     "evalue": "ignored",
     "traceback": [
      "\u001b[0;31m\u001b[0m",
      "\u001b[0;31mValueError\u001b[0mTraceback (most recent call last)",
      "\u001b[0;32m<ipython-input-47-319f925dbde7>\u001b[0m in \u001b[0;36m<module>\u001b[0;34m()\u001b[0m\n\u001b[1;32m      1\u001b[0m \u001b[0;32mfrom\u001b[0m \u001b[0msklearn\u001b[0m\u001b[0;34m.\u001b[0m\u001b[0mmetrics\u001b[0m \u001b[0;32mimport\u001b[0m \u001b[0mconfusion_matrix\u001b[0m\u001b[0;34m\u001b[0m\u001b[0m\n\u001b[1;32m      2\u001b[0m \u001b[0;34m\u001b[0m\u001b[0m\n\u001b[0;32m----> 3\u001b[0;31m \u001b[0;32mprint\u001b[0m\u001b[0;34m(\u001b[0m\u001b[0mconfusion_matrix\u001b[0m\u001b[0;34m(\u001b[0m\u001b[0mtestY\u001b[0m\u001b[0;34m,\u001b[0m \u001b[0mpredicted_classes\u001b[0m\u001b[0;34m)\u001b[0m\u001b[0;34m)\u001b[0m\u001b[0;34m\u001b[0m\u001b[0m\n\u001b[0m",
      "\u001b[0;32m/usr/local/lib/python2.7/dist-packages/sklearn/metrics/classification.pyc\u001b[0m in \u001b[0;36mconfusion_matrix\u001b[0;34m(y_true, y_pred, labels, sample_weight)\u001b[0m\n\u001b[1;32m    248\u001b[0m \u001b[0;34m\u001b[0m\u001b[0m\n\u001b[1;32m    249\u001b[0m     \"\"\"\n\u001b[0;32m--> 250\u001b[0;31m     \u001b[0my_type\u001b[0m\u001b[0;34m,\u001b[0m \u001b[0my_true\u001b[0m\u001b[0;34m,\u001b[0m \u001b[0my_pred\u001b[0m \u001b[0;34m=\u001b[0m \u001b[0m_check_targets\u001b[0m\u001b[0;34m(\u001b[0m\u001b[0my_true\u001b[0m\u001b[0;34m,\u001b[0m \u001b[0my_pred\u001b[0m\u001b[0;34m)\u001b[0m\u001b[0;34m\u001b[0m\u001b[0m\n\u001b[0m\u001b[1;32m    251\u001b[0m     \u001b[0;32mif\u001b[0m \u001b[0my_type\u001b[0m \u001b[0;32mnot\u001b[0m \u001b[0;32min\u001b[0m \u001b[0;34m(\u001b[0m\u001b[0;34m\"binary\"\u001b[0m\u001b[0;34m,\u001b[0m \u001b[0;34m\"multiclass\"\u001b[0m\u001b[0;34m)\u001b[0m\u001b[0;34m:\u001b[0m\u001b[0;34m\u001b[0m\u001b[0m\n\u001b[1;32m    252\u001b[0m         \u001b[0;32mraise\u001b[0m \u001b[0mValueError\u001b[0m\u001b[0;34m(\u001b[0m\u001b[0;34m\"%s is not supported\"\u001b[0m \u001b[0;34m%\u001b[0m \u001b[0my_type\u001b[0m\u001b[0;34m)\u001b[0m\u001b[0;34m\u001b[0m\u001b[0m\n",
      "\u001b[0;32m/usr/local/lib/python2.7/dist-packages/sklearn/metrics/classification.pyc\u001b[0m in \u001b[0;36m_check_targets\u001b[0;34m(y_true, y_pred)\u001b[0m\n\u001b[1;32m     79\u001b[0m     \u001b[0;32mif\u001b[0m \u001b[0mlen\u001b[0m\u001b[0;34m(\u001b[0m\u001b[0my_type\u001b[0m\u001b[0;34m)\u001b[0m \u001b[0;34m>\u001b[0m \u001b[0;36m1\u001b[0m\u001b[0;34m:\u001b[0m\u001b[0;34m\u001b[0m\u001b[0m\n\u001b[1;32m     80\u001b[0m         raise ValueError(\"Classification metrics can't handle a mix of {0} \"\n\u001b[0;32m---> 81\u001b[0;31m                          \"and {1} targets\".format(type_true, type_pred))\n\u001b[0m\u001b[1;32m     82\u001b[0m \u001b[0;34m\u001b[0m\u001b[0m\n\u001b[1;32m     83\u001b[0m     \u001b[0;31m# We can't have more than one value on y_type => The set is no more needed\u001b[0m\u001b[0;34m\u001b[0m\u001b[0;34m\u001b[0m\u001b[0m\n",
      "\u001b[0;31mValueError\u001b[0m: Classification metrics can't handle a mix of multilabel-indicator and multiclass targets"
     ],
     "output_type": "error"
    }
   ],
   "source": [
    "# Die Confusion-Matrix zeigt an, wie oft ein Zeichen\n",
    "# für ein anderes Zeichen gehalten wird.\n",
    "from sklearn.metrics import confusion_matrix\n",
    "\n",
    "print(confusion_matrix(testY, predicted_classes))"
   ]
  },
  {
   "cell_type": "markdown",
   "metadata": {
    "id": "f8wb5UBcOcAp",
    "colab_type": "text"
   },
   "source": [
    "## CLASSIFIY"
   ]
  },
  {
   "cell_type": "code",
   "execution_count": 29,
   "metadata": {
    "id": "4s0EuAHlVpu8",
    "colab_type": "code",
    "colab": {
     "autoexec": {
      "startup": false,
      "wait_interval": 0.0
     },
     "base_uri": "https://localhost:8080/",
     "height": 136.0
    },
    "outputId": "9b3d2bbb-518f-490b-f1b3-092b333b064c",
    "executionInfo": {
     "status": "ok",
     "timestamp": 1.528644948568E12,
     "user_tz": -120.0,
     "elapsed": 1840.0,
     "user": {
      "displayName": "Lion Pierau",
      "photoUrl": "//lh4.googleusercontent.com/-hZmLaE0LrhY/AAAAAAAAAAI/AAAAAAAACTU/vPgZFO1gt6Y/s50-c-k-no/photo.jpg",
      "userId": "106948638632482276231"
     }
    }
   },
   "outputs": [
    {
     "name": "stdout",
     "output_type": "stream",
     "text": [
      "total 100M\r\n",
      "drwxr-xr-x 1 root root 4.0K May 21 17:02 datalab\r\n",
      "drwxr-xr-x 7 root root 4.0K Jun 10 15:25 dataset\r\n",
      "-rw-r--r-- 1 root root  571 Jun 10 15:32 lb.pickle\r\n",
      "-rw-r--r-- 1 root root  43K Jun 10 15:32 plot.png\r\n",
      "-rw-r--r-- 1 root root 100M Jun 10 15:32 pokedex.model\r\n",
      "drwxr-xr-x 4 root root 4.0K Jun 10 15:26 pokemon-recognition\r\n"
     ]
    }
   ],
   "source": [
    "!ls -lh"
   ]
  },
  {
   "cell_type": "code",
   "execution_count": 31,
   "metadata": {
    "id": "V5ex7X81OcAq",
    "colab_type": "code",
    "colab": {
     "autoexec": {
      "startup": false,
      "wait_interval": 0.0
     },
     "base_uri": "https://localhost:8080/",
     "height": 248.0
    },
    "outputId": "3018b796-145e-44a0-9700-9925f904520f",
    "executionInfo": {
     "status": "error",
     "timestamp": 1.528645189929E12,
     "user_tz": -120.0,
     "elapsed": 4476.0,
     "user": {
      "displayName": "Lion Pierau",
      "photoUrl": "//lh4.googleusercontent.com/-hZmLaE0LrhY/AAAAAAAAAAI/AAAAAAAACTU/vPgZFO1gt6Y/s50-c-k-no/photo.jpg",
      "userId": "106948638632482276231"
     }
    }
   },
   "outputs": [
    {
     "name": "stdout",
     "output_type": "stream",
     "text": [
      "[INFO] loading network...\n"
     ]
    },
    {
     "ename": "NameError",
     "evalue": "ignored",
     "traceback": [
      "\u001b[0;31m\u001b[0m",
      "\u001b[0;31mNameError\u001b[0mTraceback (most recent call last)",
      "\u001b[0;32m<ipython-input-31-3973b529923e>\u001b[0m in \u001b[0;36m<module>\u001b[0;34m()\u001b[0m\n\u001b[1;32m     16\u001b[0m \u001b[0;34m\u001b[0m\u001b[0m\n\u001b[1;32m     17\u001b[0m \u001b[0;31m# build the label and draw the label on the image\u001b[0m\u001b[0;34m\u001b[0m\u001b[0;34m\u001b[0m\u001b[0m\n\u001b[0;32m---> 18\u001b[0;31m \u001b[0mlabel\u001b[0m \u001b[0;34m=\u001b[0m \u001b[0;34m\"{}: {:.2f}% ({})\"\u001b[0m\u001b[0;34m.\u001b[0m\u001b[0mformat\u001b[0m\u001b[0;34m(\u001b[0m\u001b[0mlabel\u001b[0m\u001b[0;34m,\u001b[0m \u001b[0mproba\u001b[0m\u001b[0;34m[\u001b[0m\u001b[0midx\u001b[0m\u001b[0;34m]\u001b[0m \u001b[0;34m*\u001b[0m \u001b[0;36m100\u001b[0m\u001b[0;34m,\u001b[0m \u001b[0mcorrect\u001b[0m\u001b[0;34m)\u001b[0m\u001b[0;34m\u001b[0m\u001b[0m\n\u001b[0m\u001b[1;32m     19\u001b[0m \u001b[0moutput\u001b[0m \u001b[0;34m=\u001b[0m \u001b[0mimutils\u001b[0m\u001b[0;34m.\u001b[0m\u001b[0mresize\u001b[0m\u001b[0;34m(\u001b[0m\u001b[0moutput\u001b[0m\u001b[0;34m,\u001b[0m \u001b[0mwidth\u001b[0m\u001b[0;34m=\u001b[0m\u001b[0;36m400\u001b[0m\u001b[0;34m)\u001b[0m\u001b[0;34m\u001b[0m\u001b[0m\n\u001b[1;32m     20\u001b[0m \u001b[0mcv2\u001b[0m\u001b[0;34m.\u001b[0m\u001b[0mputText\u001b[0m\u001b[0;34m(\u001b[0m\u001b[0moutput\u001b[0m\u001b[0;34m,\u001b[0m \u001b[0mlabel\u001b[0m\u001b[0;34m,\u001b[0m \u001b[0;34m(\u001b[0m\u001b[0;36m10\u001b[0m\u001b[0;34m,\u001b[0m \u001b[0;36m25\u001b[0m\u001b[0;34m)\u001b[0m\u001b[0;34m,\u001b[0m \u001b[0mcv2\u001b[0m\u001b[0;34m.\u001b[0m\u001b[0mFONT_HERSHEY_SIMPLEX\u001b[0m\u001b[0;34m,\u001b[0m \u001b[0;36m0.7\u001b[0m\u001b[0;34m,\u001b[0m \u001b[0;34m(\u001b[0m\u001b[0;36m0\u001b[0m\u001b[0;34m,\u001b[0m \u001b[0;36m255\u001b[0m\u001b[0;34m,\u001b[0m \u001b[0;36m0\u001b[0m\u001b[0;34m)\u001b[0m\u001b[0;34m,\u001b[0m \u001b[0;36m2\u001b[0m\u001b[0;34m)\u001b[0m\u001b[0;34m\u001b[0m\u001b[0m\n",
      "\u001b[0;31mNameError\u001b[0m: name 'proba' is not defined"
     ],
     "output_type": "error"
    }
   ],
   "source": [
    "# load the image\n",
    "#image = cv2.imread(IMAGE_FILE)\n",
    "#output = image.copy()\n",
    "\n",
    "# pre-process the image for classification\n",
    "#image = cv2.resize(image, (96, 96))\n",
    "#image = image.astype(\"float\") / 255.0\n",
    "#image = img_to_array(image)\n",
    "#image = np.expand_dims(image, axis=0)\n",
    "\n",
    "# load the trained convolutional neural network and the label\n",
    "# binarizer\n",
    "print(\"[INFO] loading network...\")\n",
    "model = load_model(MODEL_FILE)\n",
    "lb = pickle.loads(open(LABEL_BIN, \"rb\").read())\n",
    "\n",
    "# classify the input image\n",
    "#print(\"[INFO] classifying image...\")\n",
    "#proba = model.predict(image)[0]\n",
    "#idx = np.argmax(proba)\n",
    "#label = lb.classes_[idx]\n",
    "\n",
    "# we'll mark our prediction as \"correct\" of the input image filename\n",
    "# contains the predicted label text (obviously this makes the\n",
    "# assumption that you have named your testing image files this way)\n",
    "filename = IMAGE_FILE[IMAGE_FILE.rfind(os.path.sep) + 1:]\n",
    "correct = \"correct\" if filename.rfind(label) != -1 else \"incorrect\"\n",
    "\n",
    "# build the label and draw the label on the image\n",
    "label = \"{}: {:.2f}% ({})\".format(label, proba[idx] * 100, correct)\n",
    "output = imutils.resize(output, width=400)\n",
    "cv2.putText(output, label, (10, 25), cv2.FONT_HERSHEY_SIMPLEX, 0.7, (0, 255, 0), 2)\n",
    "\n",
    "# show the output image\n",
    "print(\"[INFO] {}\".format(label))\n",
    "cv2.imshow(\"Output\", output)\n",
    "cv2.waitKey(0)"
   ]
  },
  {
   "cell_type": "code",
   "execution_count": 0,
   "metadata": {
    "id": "QRDgkTTbOcAv",
    "colab_type": "code",
    "colab": {
     "autoexec": {
      "startup": false,
      "wait_interval": 0.0
     }
    }
   },
   "outputs": [],
   "source": [
    ""
   ]
  }
 ],
 "metadata": {
  "colab": {
   "name": "notebook.ipynb",
   "version": "0.3.2",
   "views": {},
   "default_view": {},
   "provenance": [],
   "collapsed_sections": []
  },
  "kernelspec": {
   "name": "python2",
   "display_name": "Python 2"
  },
  "accelerator": "GPU"
 },
 "nbformat": 4,
 "nbformat_minor": 0
}
